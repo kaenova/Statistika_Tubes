{
 "cells": [
  {
   "cell_type": "code",
   "execution_count": 12,
   "metadata": {},
   "outputs": [],
   "source": [
    "require(\"summarytools\")\n",
    "require(\"dplyr\")\n",
    "require(\"repr\")\n",
    "library(DataExplorer)"
   ]
  },
  {
   "cell_type": "code",
   "execution_count": 2,
   "metadata": {},
   "outputs": [
    {
     "data": {
      "text/html": [
       "<table>\n",
       "<caption>A data.frame: 6 × 23</caption>\n",
       "<thead>\n",
       "\t<tr><th></th><th scope=col>CLIENTNUM</th><th scope=col>Attrition_Flag</th><th scope=col>Customer_Age</th><th scope=col>Gender</th><th scope=col>Dependent_count</th><th scope=col>Education_Level</th><th scope=col>Marital_Status</th><th scope=col>Income_Category</th><th scope=col>Card_Category</th><th scope=col>Months_on_book</th><th scope=col>...</th><th scope=col>Credit_Limit</th><th scope=col>Total_Revolving_Bal</th><th scope=col>Avg_Open_To_Buy</th><th scope=col>Total_Amt_Chng_Q4_Q1</th><th scope=col>Total_Trans_Amt</th><th scope=col>Total_Trans_Ct</th><th scope=col>Total_Ct_Chng_Q4_Q1</th><th scope=col>Avg_Utilization_Ratio</th><th scope=col>Naive_Bayes_Classifier_Attrition_Flag_Card_Category_Contacts_Count_12_mon_Dependent_count_Education_Level_Months_Inactive_12_mon_1</th><th scope=col>Naive_Bayes_Classifier_Attrition_Flag_Card_Category_Contacts_Count_12_mon_Dependent_count_Education_Level_Months_Inactive_12_mon_2</th></tr>\n",
       "\t<tr><th></th><th scope=col>&lt;int&gt;</th><th scope=col>&lt;chr&gt;</th><th scope=col>&lt;int&gt;</th><th scope=col>&lt;chr&gt;</th><th scope=col>&lt;int&gt;</th><th scope=col>&lt;chr&gt;</th><th scope=col>&lt;chr&gt;</th><th scope=col>&lt;chr&gt;</th><th scope=col>&lt;chr&gt;</th><th scope=col>&lt;int&gt;</th><th scope=col>...</th><th scope=col>&lt;dbl&gt;</th><th scope=col>&lt;int&gt;</th><th scope=col>&lt;dbl&gt;</th><th scope=col>&lt;dbl&gt;</th><th scope=col>&lt;int&gt;</th><th scope=col>&lt;int&gt;</th><th scope=col>&lt;dbl&gt;</th><th scope=col>&lt;dbl&gt;</th><th scope=col>&lt;dbl&gt;</th><th scope=col>&lt;dbl&gt;</th></tr>\n",
       "</thead>\n",
       "<tbody>\n",
       "\t<tr><th scope=row>1</th><td>768805383</td><td>Existing Customer</td><td>45</td><td>M</td><td>3</td><td>High School</td><td>Married</td><td>$60K - $80K   </td><td>Blue</td><td>39</td><td>...</td><td>12691</td><td> 777</td><td>11914</td><td>1.335</td><td>1144</td><td>42</td><td>1.625</td><td>0.061</td><td>9.3448e-05</td><td>0.99991</td></tr>\n",
       "\t<tr><th scope=row>2</th><td>818770008</td><td>Existing Customer</td><td>49</td><td>F</td><td>5</td><td>Graduate   </td><td>Single </td><td>Less than $40K</td><td>Blue</td><td>44</td><td>...</td><td> 8256</td><td> 864</td><td> 7392</td><td>1.541</td><td>1291</td><td>33</td><td>3.714</td><td>0.105</td><td>5.6861e-05</td><td>0.99994</td></tr>\n",
       "\t<tr><th scope=row>3</th><td>713982108</td><td>Existing Customer</td><td>51</td><td>M</td><td>3</td><td>Graduate   </td><td>Married</td><td>$80K - $120K  </td><td>Blue</td><td>36</td><td>...</td><td> 3418</td><td>   0</td><td> 3418</td><td>2.594</td><td>1887</td><td>20</td><td>2.333</td><td>0.000</td><td>2.1081e-05</td><td>0.99998</td></tr>\n",
       "\t<tr><th scope=row>4</th><td>769911858</td><td>Existing Customer</td><td>40</td><td>F</td><td>4</td><td>High School</td><td>Unknown</td><td>Less than $40K</td><td>Blue</td><td>34</td><td>...</td><td> 3313</td><td>2517</td><td>  796</td><td>1.405</td><td>1171</td><td>20</td><td>2.333</td><td>0.760</td><td>1.3366e-04</td><td>0.99987</td></tr>\n",
       "\t<tr><th scope=row>5</th><td>709106358</td><td>Existing Customer</td><td>40</td><td>M</td><td>3</td><td>Uneducated </td><td>Married</td><td>$60K - $80K   </td><td>Blue</td><td>21</td><td>...</td><td> 4716</td><td>   0</td><td> 4716</td><td>2.175</td><td> 816</td><td>28</td><td>2.500</td><td>0.000</td><td>2.1676e-05</td><td>0.99998</td></tr>\n",
       "\t<tr><th scope=row>6</th><td>713061558</td><td>Existing Customer</td><td>44</td><td>M</td><td>2</td><td>Graduate   </td><td>Married</td><td>$40K - $60K   </td><td>Blue</td><td>36</td><td>...</td><td> 4010</td><td>1247</td><td> 2763</td><td>1.376</td><td>1088</td><td>24</td><td>0.846</td><td>0.311</td><td>5.5077e-05</td><td>0.99994</td></tr>\n",
       "</tbody>\n",
       "</table>\n"
      ],
      "text/latex": [
       "A data.frame: 6 × 23\n",
       "\\begin{tabular}{r|lllllllllllllllllllll}\n",
       "  & CLIENTNUM & Attrition\\_Flag & Customer\\_Age & Gender & Dependent\\_count & Education\\_Level & Marital\\_Status & Income\\_Category & Card\\_Category & Months\\_on\\_book & ... & Credit\\_Limit & Total\\_Revolving\\_Bal & Avg\\_Open\\_To\\_Buy & Total\\_Amt\\_Chng\\_Q4\\_Q1 & Total\\_Trans\\_Amt & Total\\_Trans\\_Ct & Total\\_Ct\\_Chng\\_Q4\\_Q1 & Avg\\_Utilization\\_Ratio & Naive\\_Bayes\\_Classifier\\_Attrition\\_Flag\\_Card\\_Category\\_Contacts\\_Count\\_12\\_mon\\_Dependent\\_count\\_Education\\_Level\\_Months\\_Inactive\\_12\\_mon\\_1 & Naive\\_Bayes\\_Classifier\\_Attrition\\_Flag\\_Card\\_Category\\_Contacts\\_Count\\_12\\_mon\\_Dependent\\_count\\_Education\\_Level\\_Months\\_Inactive\\_12\\_mon\\_2\\\\\n",
       "  & <int> & <chr> & <int> & <chr> & <int> & <chr> & <chr> & <chr> & <chr> & <int> & ... & <dbl> & <int> & <dbl> & <dbl> & <int> & <int> & <dbl> & <dbl> & <dbl> & <dbl>\\\\\n",
       "\\hline\n",
       "\t1 & 768805383 & Existing Customer & 45 & M & 3 & High School & Married & \\$60K - \\$80K    & Blue & 39 & ... & 12691 &  777 & 11914 & 1.335 & 1144 & 42 & 1.625 & 0.061 & 9.3448e-05 & 0.99991\\\\\n",
       "\t2 & 818770008 & Existing Customer & 49 & F & 5 & Graduate    & Single  & Less than \\$40K & Blue & 44 & ... &  8256 &  864 &  7392 & 1.541 & 1291 & 33 & 3.714 & 0.105 & 5.6861e-05 & 0.99994\\\\\n",
       "\t3 & 713982108 & Existing Customer & 51 & M & 3 & Graduate    & Married & \\$80K - \\$120K   & Blue & 36 & ... &  3418 &    0 &  3418 & 2.594 & 1887 & 20 & 2.333 & 0.000 & 2.1081e-05 & 0.99998\\\\\n",
       "\t4 & 769911858 & Existing Customer & 40 & F & 4 & High School & Unknown & Less than \\$40K & Blue & 34 & ... &  3313 & 2517 &   796 & 1.405 & 1171 & 20 & 2.333 & 0.760 & 1.3366e-04 & 0.99987\\\\\n",
       "\t5 & 709106358 & Existing Customer & 40 & M & 3 & Uneducated  & Married & \\$60K - \\$80K    & Blue & 21 & ... &  4716 &    0 &  4716 & 2.175 &  816 & 28 & 2.500 & 0.000 & 2.1676e-05 & 0.99998\\\\\n",
       "\t6 & 713061558 & Existing Customer & 44 & M & 2 & Graduate    & Married & \\$40K - \\$60K    & Blue & 36 & ... &  4010 & 1247 &  2763 & 1.376 & 1088 & 24 & 0.846 & 0.311 & 5.5077e-05 & 0.99994\\\\\n",
       "\\end{tabular}\n"
      ],
      "text/markdown": [
       "\n",
       "A data.frame: 6 × 23\n",
       "\n",
       "| <!--/--> | CLIENTNUM &lt;int&gt; | Attrition_Flag &lt;chr&gt; | Customer_Age &lt;int&gt; | Gender &lt;chr&gt; | Dependent_count &lt;int&gt; | Education_Level &lt;chr&gt; | Marital_Status &lt;chr&gt; | Income_Category &lt;chr&gt; | Card_Category &lt;chr&gt; | Months_on_book &lt;int&gt; | ... ... | Credit_Limit &lt;dbl&gt; | Total_Revolving_Bal &lt;int&gt; | Avg_Open_To_Buy &lt;dbl&gt; | Total_Amt_Chng_Q4_Q1 &lt;dbl&gt; | Total_Trans_Amt &lt;int&gt; | Total_Trans_Ct &lt;int&gt; | Total_Ct_Chng_Q4_Q1 &lt;dbl&gt; | Avg_Utilization_Ratio &lt;dbl&gt; | Naive_Bayes_Classifier_Attrition_Flag_Card_Category_Contacts_Count_12_mon_Dependent_count_Education_Level_Months_Inactive_12_mon_1 &lt;dbl&gt; | Naive_Bayes_Classifier_Attrition_Flag_Card_Category_Contacts_Count_12_mon_Dependent_count_Education_Level_Months_Inactive_12_mon_2 &lt;dbl&gt; |\n",
       "|---|---|---|---|---|---|---|---|---|---|---|---|---|---|---|---|---|---|---|---|---|---|\n",
       "| 1 | 768805383 | Existing Customer | 45 | M | 3 | High School | Married | $60K - $80K    | Blue | 39 | ... | 12691 |  777 | 11914 | 1.335 | 1144 | 42 | 1.625 | 0.061 | 9.3448e-05 | 0.99991 |\n",
       "| 2 | 818770008 | Existing Customer | 49 | F | 5 | Graduate    | Single  | Less than $40K | Blue | 44 | ... |  8256 |  864 |  7392 | 1.541 | 1291 | 33 | 3.714 | 0.105 | 5.6861e-05 | 0.99994 |\n",
       "| 3 | 713982108 | Existing Customer | 51 | M | 3 | Graduate    | Married | $80K - $120K   | Blue | 36 | ... |  3418 |    0 |  3418 | 2.594 | 1887 | 20 | 2.333 | 0.000 | 2.1081e-05 | 0.99998 |\n",
       "| 4 | 769911858 | Existing Customer | 40 | F | 4 | High School | Unknown | Less than $40K | Blue | 34 | ... |  3313 | 2517 |   796 | 1.405 | 1171 | 20 | 2.333 | 0.760 | 1.3366e-04 | 0.99987 |\n",
       "| 5 | 709106358 | Existing Customer | 40 | M | 3 | Uneducated  | Married | $60K - $80K    | Blue | 21 | ... |  4716 |    0 |  4716 | 2.175 |  816 | 28 | 2.500 | 0.000 | 2.1676e-05 | 0.99998 |\n",
       "| 6 | 713061558 | Existing Customer | 44 | M | 2 | Graduate    | Married | $40K - $60K    | Blue | 36 | ... |  4010 | 1247 |  2763 | 1.376 | 1088 | 24 | 0.846 | 0.311 | 5.5077e-05 | 0.99994 |\n",
       "\n"
      ],
      "text/plain": [
       "  CLIENTNUM Attrition_Flag    Customer_Age Gender Dependent_count\n",
       "1 768805383 Existing Customer 45           M      3              \n",
       "2 818770008 Existing Customer 49           F      5              \n",
       "3 713982108 Existing Customer 51           M      3              \n",
       "4 769911858 Existing Customer 40           F      4              \n",
       "5 709106358 Existing Customer 40           M      3              \n",
       "6 713061558 Existing Customer 44           M      2              \n",
       "  Education_Level Marital_Status Income_Category Card_Category Months_on_book\n",
       "1 High School     Married        $60K - $80K     Blue          39            \n",
       "2 Graduate        Single         Less than $40K  Blue          44            \n",
       "3 Graduate        Married        $80K - $120K    Blue          36            \n",
       "4 High School     Unknown        Less than $40K  Blue          34            \n",
       "5 Uneducated      Married        $60K - $80K     Blue          21            \n",
       "6 Graduate        Married        $40K - $60K     Blue          36            \n",
       "  ... Credit_Limit Total_Revolving_Bal Avg_Open_To_Buy Total_Amt_Chng_Q4_Q1\n",
       "1 ... 12691         777                11914           1.335               \n",
       "2 ...  8256         864                 7392           1.541               \n",
       "3 ...  3418           0                 3418           2.594               \n",
       "4 ...  3313        2517                  796           1.405               \n",
       "5 ...  4716           0                 4716           2.175               \n",
       "6 ...  4010        1247                 2763           1.376               \n",
       "  Total_Trans_Amt Total_Trans_Ct Total_Ct_Chng_Q4_Q1 Avg_Utilization_Ratio\n",
       "1 1144            42             1.625               0.061                \n",
       "2 1291            33             3.714               0.105                \n",
       "3 1887            20             2.333               0.000                \n",
       "4 1171            20             2.333               0.760                \n",
       "5  816            28             2.500               0.000                \n",
       "6 1088            24             0.846               0.311                \n",
       "  Naive_Bayes_Classifier_Attrition_Flag_Card_Category_Contacts_Count_12_mon_Dependent_count_Education_Level_Months_Inactive_12_mon_1\n",
       "1 9.3448e-05                                                                                                                        \n",
       "2 5.6861e-05                                                                                                                        \n",
       "3 2.1081e-05                                                                                                                        \n",
       "4 1.3366e-04                                                                                                                        \n",
       "5 2.1676e-05                                                                                                                        \n",
       "6 5.5077e-05                                                                                                                        \n",
       "  Naive_Bayes_Classifier_Attrition_Flag_Card_Category_Contacts_Count_12_mon_Dependent_count_Education_Level_Months_Inactive_12_mon_2\n",
       "1 0.99991                                                                                                                           \n",
       "2 0.99994                                                                                                                           \n",
       "3 0.99998                                                                                                                           \n",
       "4 0.99987                                                                                                                           \n",
       "5 0.99998                                                                                                                           \n",
       "6 0.99994                                                                                                                           "
      ]
     },
     "metadata": {},
     "output_type": "display_data"
    }
   ],
   "source": [
    "df <- read.csv(\"./BankChurners.csv\")\n",
    "head(df)"
   ]
  },
  {
   "cell_type": "code",
   "execution_count": 3,
   "metadata": {},
   "outputs": [
    {
     "data": {
      "text/html": [
       "<table>\n",
       "<caption>A data.frame: 6 × 20</caption>\n",
       "<thead>\n",
       "\t<tr><th></th><th scope=col>Attrition_Flag</th><th scope=col>Customer_Age</th><th scope=col>Gender</th><th scope=col>Dependent_count</th><th scope=col>Education_Level</th><th scope=col>Marital_Status</th><th scope=col>Income_Category</th><th scope=col>Card_Category</th><th scope=col>Months_on_book</th><th scope=col>Total_Relationship_Count</th><th scope=col>Months_Inactive_12_mon</th><th scope=col>Contacts_Count_12_mon</th><th scope=col>Credit_Limit</th><th scope=col>Total_Revolving_Bal</th><th scope=col>Avg_Open_To_Buy</th><th scope=col>Total_Amt_Chng_Q4_Q1</th><th scope=col>Total_Trans_Amt</th><th scope=col>Total_Trans_Ct</th><th scope=col>Total_Ct_Chng_Q4_Q1</th><th scope=col>Avg_Utilization_Ratio</th></tr>\n",
       "\t<tr><th></th><th scope=col>&lt;chr&gt;</th><th scope=col>&lt;int&gt;</th><th scope=col>&lt;chr&gt;</th><th scope=col>&lt;int&gt;</th><th scope=col>&lt;chr&gt;</th><th scope=col>&lt;chr&gt;</th><th scope=col>&lt;chr&gt;</th><th scope=col>&lt;chr&gt;</th><th scope=col>&lt;int&gt;</th><th scope=col>&lt;int&gt;</th><th scope=col>&lt;int&gt;</th><th scope=col>&lt;int&gt;</th><th scope=col>&lt;dbl&gt;</th><th scope=col>&lt;int&gt;</th><th scope=col>&lt;dbl&gt;</th><th scope=col>&lt;dbl&gt;</th><th scope=col>&lt;int&gt;</th><th scope=col>&lt;int&gt;</th><th scope=col>&lt;dbl&gt;</th><th scope=col>&lt;dbl&gt;</th></tr>\n",
       "</thead>\n",
       "<tbody>\n",
       "\t<tr><th scope=row>1</th><td>Existing Customer</td><td>45</td><td>M</td><td>3</td><td>High School</td><td>Married</td><td>$60K - $80K   </td><td>Blue</td><td>39</td><td>5</td><td>1</td><td>3</td><td>12691</td><td> 777</td><td>11914</td><td>1.335</td><td>1144</td><td>42</td><td>1.625</td><td>0.061</td></tr>\n",
       "\t<tr><th scope=row>2</th><td>Existing Customer</td><td>49</td><td>F</td><td>5</td><td>Graduate   </td><td>Single </td><td>Less than $40K</td><td>Blue</td><td>44</td><td>6</td><td>1</td><td>2</td><td> 8256</td><td> 864</td><td> 7392</td><td>1.541</td><td>1291</td><td>33</td><td>3.714</td><td>0.105</td></tr>\n",
       "\t<tr><th scope=row>3</th><td>Existing Customer</td><td>51</td><td>M</td><td>3</td><td>Graduate   </td><td>Married</td><td>$80K - $120K  </td><td>Blue</td><td>36</td><td>4</td><td>1</td><td>0</td><td> 3418</td><td>   0</td><td> 3418</td><td>2.594</td><td>1887</td><td>20</td><td>2.333</td><td>0.000</td></tr>\n",
       "\t<tr><th scope=row>4</th><td>Existing Customer</td><td>40</td><td>F</td><td>4</td><td>High School</td><td>Unknown</td><td>Less than $40K</td><td>Blue</td><td>34</td><td>3</td><td>4</td><td>1</td><td> 3313</td><td>2517</td><td>  796</td><td>1.405</td><td>1171</td><td>20</td><td>2.333</td><td>0.760</td></tr>\n",
       "\t<tr><th scope=row>5</th><td>Existing Customer</td><td>40</td><td>M</td><td>3</td><td>Uneducated </td><td>Married</td><td>$60K - $80K   </td><td>Blue</td><td>21</td><td>5</td><td>1</td><td>0</td><td> 4716</td><td>   0</td><td> 4716</td><td>2.175</td><td> 816</td><td>28</td><td>2.500</td><td>0.000</td></tr>\n",
       "\t<tr><th scope=row>6</th><td>Existing Customer</td><td>44</td><td>M</td><td>2</td><td>Graduate   </td><td>Married</td><td>$40K - $60K   </td><td>Blue</td><td>36</td><td>3</td><td>1</td><td>2</td><td> 4010</td><td>1247</td><td> 2763</td><td>1.376</td><td>1088</td><td>24</td><td>0.846</td><td>0.311</td></tr>\n",
       "</tbody>\n",
       "</table>\n"
      ],
      "text/latex": [
       "A data.frame: 6 × 20\n",
       "\\begin{tabular}{r|llllllllllllllllllll}\n",
       "  & Attrition\\_Flag & Customer\\_Age & Gender & Dependent\\_count & Education\\_Level & Marital\\_Status & Income\\_Category & Card\\_Category & Months\\_on\\_book & Total\\_Relationship\\_Count & Months\\_Inactive\\_12\\_mon & Contacts\\_Count\\_12\\_mon & Credit\\_Limit & Total\\_Revolving\\_Bal & Avg\\_Open\\_To\\_Buy & Total\\_Amt\\_Chng\\_Q4\\_Q1 & Total\\_Trans\\_Amt & Total\\_Trans\\_Ct & Total\\_Ct\\_Chng\\_Q4\\_Q1 & Avg\\_Utilization\\_Ratio\\\\\n",
       "  & <chr> & <int> & <chr> & <int> & <chr> & <chr> & <chr> & <chr> & <int> & <int> & <int> & <int> & <dbl> & <int> & <dbl> & <dbl> & <int> & <int> & <dbl> & <dbl>\\\\\n",
       "\\hline\n",
       "\t1 & Existing Customer & 45 & M & 3 & High School & Married & \\$60K - \\$80K    & Blue & 39 & 5 & 1 & 3 & 12691 &  777 & 11914 & 1.335 & 1144 & 42 & 1.625 & 0.061\\\\\n",
       "\t2 & Existing Customer & 49 & F & 5 & Graduate    & Single  & Less than \\$40K & Blue & 44 & 6 & 1 & 2 &  8256 &  864 &  7392 & 1.541 & 1291 & 33 & 3.714 & 0.105\\\\\n",
       "\t3 & Existing Customer & 51 & M & 3 & Graduate    & Married & \\$80K - \\$120K   & Blue & 36 & 4 & 1 & 0 &  3418 &    0 &  3418 & 2.594 & 1887 & 20 & 2.333 & 0.000\\\\\n",
       "\t4 & Existing Customer & 40 & F & 4 & High School & Unknown & Less than \\$40K & Blue & 34 & 3 & 4 & 1 &  3313 & 2517 &   796 & 1.405 & 1171 & 20 & 2.333 & 0.760\\\\\n",
       "\t5 & Existing Customer & 40 & M & 3 & Uneducated  & Married & \\$60K - \\$80K    & Blue & 21 & 5 & 1 & 0 &  4716 &    0 &  4716 & 2.175 &  816 & 28 & 2.500 & 0.000\\\\\n",
       "\t6 & Existing Customer & 44 & M & 2 & Graduate    & Married & \\$40K - \\$60K    & Blue & 36 & 3 & 1 & 2 &  4010 & 1247 &  2763 & 1.376 & 1088 & 24 & 0.846 & 0.311\\\\\n",
       "\\end{tabular}\n"
      ],
      "text/markdown": [
       "\n",
       "A data.frame: 6 × 20\n",
       "\n",
       "| <!--/--> | Attrition_Flag &lt;chr&gt; | Customer_Age &lt;int&gt; | Gender &lt;chr&gt; | Dependent_count &lt;int&gt; | Education_Level &lt;chr&gt; | Marital_Status &lt;chr&gt; | Income_Category &lt;chr&gt; | Card_Category &lt;chr&gt; | Months_on_book &lt;int&gt; | Total_Relationship_Count &lt;int&gt; | Months_Inactive_12_mon &lt;int&gt; | Contacts_Count_12_mon &lt;int&gt; | Credit_Limit &lt;dbl&gt; | Total_Revolving_Bal &lt;int&gt; | Avg_Open_To_Buy &lt;dbl&gt; | Total_Amt_Chng_Q4_Q1 &lt;dbl&gt; | Total_Trans_Amt &lt;int&gt; | Total_Trans_Ct &lt;int&gt; | Total_Ct_Chng_Q4_Q1 &lt;dbl&gt; | Avg_Utilization_Ratio &lt;dbl&gt; |\n",
       "|---|---|---|---|---|---|---|---|---|---|---|---|---|---|---|---|---|---|---|---|---|\n",
       "| 1 | Existing Customer | 45 | M | 3 | High School | Married | $60K - $80K    | Blue | 39 | 5 | 1 | 3 | 12691 |  777 | 11914 | 1.335 | 1144 | 42 | 1.625 | 0.061 |\n",
       "| 2 | Existing Customer | 49 | F | 5 | Graduate    | Single  | Less than $40K | Blue | 44 | 6 | 1 | 2 |  8256 |  864 |  7392 | 1.541 | 1291 | 33 | 3.714 | 0.105 |\n",
       "| 3 | Existing Customer | 51 | M | 3 | Graduate    | Married | $80K - $120K   | Blue | 36 | 4 | 1 | 0 |  3418 |    0 |  3418 | 2.594 | 1887 | 20 | 2.333 | 0.000 |\n",
       "| 4 | Existing Customer | 40 | F | 4 | High School | Unknown | Less than $40K | Blue | 34 | 3 | 4 | 1 |  3313 | 2517 |   796 | 1.405 | 1171 | 20 | 2.333 | 0.760 |\n",
       "| 5 | Existing Customer | 40 | M | 3 | Uneducated  | Married | $60K - $80K    | Blue | 21 | 5 | 1 | 0 |  4716 |    0 |  4716 | 2.175 |  816 | 28 | 2.500 | 0.000 |\n",
       "| 6 | Existing Customer | 44 | M | 2 | Graduate    | Married | $40K - $60K    | Blue | 36 | 3 | 1 | 2 |  4010 | 1247 |  2763 | 1.376 | 1088 | 24 | 0.846 | 0.311 |\n",
       "\n"
      ],
      "text/plain": [
       "  Attrition_Flag    Customer_Age Gender Dependent_count Education_Level\n",
       "1 Existing Customer 45           M      3               High School    \n",
       "2 Existing Customer 49           F      5               Graduate       \n",
       "3 Existing Customer 51           M      3               Graduate       \n",
       "4 Existing Customer 40           F      4               High School    \n",
       "5 Existing Customer 40           M      3               Uneducated     \n",
       "6 Existing Customer 44           M      2               Graduate       \n",
       "  Marital_Status Income_Category Card_Category Months_on_book\n",
       "1 Married        $60K - $80K     Blue          39            \n",
       "2 Single         Less than $40K  Blue          44            \n",
       "3 Married        $80K - $120K    Blue          36            \n",
       "4 Unknown        Less than $40K  Blue          34            \n",
       "5 Married        $60K - $80K     Blue          21            \n",
       "6 Married        $40K - $60K     Blue          36            \n",
       "  Total_Relationship_Count Months_Inactive_12_mon Contacts_Count_12_mon\n",
       "1 5                        1                      3                    \n",
       "2 6                        1                      2                    \n",
       "3 4                        1                      0                    \n",
       "4 3                        4                      1                    \n",
       "5 5                        1                      0                    \n",
       "6 3                        1                      2                    \n",
       "  Credit_Limit Total_Revolving_Bal Avg_Open_To_Buy Total_Amt_Chng_Q4_Q1\n",
       "1 12691         777                11914           1.335               \n",
       "2  8256         864                 7392           1.541               \n",
       "3  3418           0                 3418           2.594               \n",
       "4  3313        2517                  796           1.405               \n",
       "5  4716           0                 4716           2.175               \n",
       "6  4010        1247                 2763           1.376               \n",
       "  Total_Trans_Amt Total_Trans_Ct Total_Ct_Chng_Q4_Q1 Avg_Utilization_Ratio\n",
       "1 1144            42             1.625               0.061                \n",
       "2 1291            33             3.714               0.105                \n",
       "3 1887            20             2.333               0.000                \n",
       "4 1171            20             2.333               0.760                \n",
       "5  816            28             2.500               0.000                \n",
       "6 1088            24             0.846               0.311                "
      ]
     },
     "metadata": {},
     "output_type": "display_data"
    }
   ],
   "source": [
    "df = subset(df, select = -c(CLIENTNUM,Naive_Bayes_Classifier_Attrition_Flag_Card_Category_Contacts_Count_12_mon_Dependent_count_Education_Level_Months_Inactive_12_mon_1,Naive_Bayes_Classifier_Attrition_Flag_Card_Category_Contacts_Count_12_mon_Dependent_count_Education_Level_Months_Inactive_12_mon_2))\n",
    "head(df)"
   ]
  },
  {
   "cell_type": "code",
   "execution_count": 4,
   "metadata": {},
   "outputs": [
    {
     "data": {
      "text/plain": [
       " Attrition_Flag      Customer_Age      Gender          Dependent_count\n",
       " Length:10127       Min.   :26.00   Length:10127       Min.   :0.000  \n",
       " Class :character   1st Qu.:41.00   Class :character   1st Qu.:1.000  \n",
       " Mode  :character   Median :46.00   Mode  :character   Median :2.000  \n",
       "                    Mean   :46.33                      Mean   :2.346  \n",
       "                    3rd Qu.:52.00                      3rd Qu.:3.000  \n",
       "                    Max.   :73.00                      Max.   :5.000  \n",
       " Education_Level    Marital_Status     Income_Category    Card_Category     \n",
       " Length:10127       Length:10127       Length:10127       Length:10127      \n",
       " Class :character   Class :character   Class :character   Class :character  \n",
       " Mode  :character   Mode  :character   Mode  :character   Mode  :character  \n",
       "                                                                            \n",
       "                                                                            \n",
       "                                                                            \n",
       " Months_on_book  Total_Relationship_Count Months_Inactive_12_mon\n",
       " Min.   :13.00   Min.   :1.000            Min.   :0.000         \n",
       " 1st Qu.:31.00   1st Qu.:3.000            1st Qu.:2.000         \n",
       " Median :36.00   Median :4.000            Median :2.000         \n",
       " Mean   :35.93   Mean   :3.813            Mean   :2.341         \n",
       " 3rd Qu.:40.00   3rd Qu.:5.000            3rd Qu.:3.000         \n",
       " Max.   :56.00   Max.   :6.000            Max.   :6.000         \n",
       " Contacts_Count_12_mon  Credit_Limit   Total_Revolving_Bal Avg_Open_To_Buy\n",
       " Min.   :0.000         Min.   : 1438   Min.   :   0        Min.   :    3  \n",
       " 1st Qu.:2.000         1st Qu.: 2555   1st Qu.: 359        1st Qu.: 1324  \n",
       " Median :2.000         Median : 4549   Median :1276        Median : 3474  \n",
       " Mean   :2.455         Mean   : 8632   Mean   :1163        Mean   : 7469  \n",
       " 3rd Qu.:3.000         3rd Qu.:11068   3rd Qu.:1784        3rd Qu.: 9859  \n",
       " Max.   :6.000         Max.   :34516   Max.   :2517        Max.   :34516  \n",
       " Total_Amt_Chng_Q4_Q1 Total_Trans_Amt Total_Trans_Ct   Total_Ct_Chng_Q4_Q1\n",
       " Min.   :0.0000       Min.   :  510   Min.   : 10.00   Min.   :0.0000     \n",
       " 1st Qu.:0.6310       1st Qu.: 2156   1st Qu.: 45.00   1st Qu.:0.5820     \n",
       " Median :0.7360       Median : 3899   Median : 67.00   Median :0.7020     \n",
       " Mean   :0.7599       Mean   : 4404   Mean   : 64.86   Mean   :0.7122     \n",
       " 3rd Qu.:0.8590       3rd Qu.: 4741   3rd Qu.: 81.00   3rd Qu.:0.8180     \n",
       " Max.   :3.3970       Max.   :18484   Max.   :139.00   Max.   :3.7140     \n",
       " Avg_Utilization_Ratio\n",
       " Min.   :0.0000       \n",
       " 1st Qu.:0.0230       \n",
       " Median :0.1760       \n",
       " Mean   :0.2749       \n",
       " 3rd Qu.:0.5030       \n",
       " Max.   :0.9990       "
      ]
     },
     "metadata": {},
     "output_type": "display_data"
    }
   ],
   "source": [
    "summary(df)"
   ]
  },
  {
   "cell_type": "code",
   "execution_count": 6,
   "metadata": {},
   "outputs": [
    {
     "data": {
      "text/plain": [
       "Run Length Encoding\n",
       "  lengths: int [1:2] 1627 8500\n",
       "  values : chr [1:2] \"Attrited Customer\" \"Existing Customer\""
      ]
     },
     "metadata": {},
     "output_type": "display_data"
    }
   ],
   "source": [
    "rle(sort(df$Attrition_Flag))\n"
   ]
  },
  {
   "cell_type": "code",
   "execution_count": 7,
   "metadata": {},
   "outputs": [
    {
     "data": {
      "image/png": "[encoded data removed]",
      "text/plain": [
       "Plot with title \"Pie Chart of Attrition_Flag\n",
       " (with sample sizes)\""
      ]
     },
     "metadata": {
      "image/png": {
       "height": 420,
       "width": 420
      }
     },
     "output_type": "display_data"
    }
   ],
   "source": [
    "mytable <- table(df$Attrition_Flag)\n",
    "lbls <- paste(names(mytable), \"\\n\", mytable, sep=\"\")\n",
    "pie(mytable, labels = lbls,\n",
    "   main=\"Pie Chart of Attrition_Flag\\n (with sample sizes)\")"
   ]
  },
  {
   "cell_type": "code",
   "execution_count": 11,
   "metadata": {},
   "outputs": [],
   "source": [
    "# DataExplorer::create_report(df)"
   ]
  },
  {
   "cell_type": "code",
   "execution_count": null,
   "metadata": {},
   "outputs": [],
   "source": []
  }
 ],
 "metadata": {
  "kernelspec": {
   "display_name": "R",
   "language": "R",
   "name": "ir"
  },
  "language_info": {
   "codemirror_mode": "r",
   "file_extension": ".r",
   "mimetype": "text/x-r-source",
   "name": "R",
   "pygments_lexer": "r",
   "version": "4.0.3"
  }
 },
 "nbformat": 4,
 "nbformat_minor": 4
}
