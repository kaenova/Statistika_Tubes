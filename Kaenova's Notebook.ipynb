{
 "cells": [
  {
   "cell_type": "markdown",
   "metadata": {},
   "source": [
    "# Tubes_Statistik\n",
    "Kaenova Mahendra Auditama<sup>1</sup>  \n",
    "Rachdian Habi Yahya<sup>2</sup>  \n",
    "Fendi Irfan Amorokhman<sup>3</sup>  \n",
    "Arya Pangestu<sup>4</sup>  \n",
    "<sup>1</sup>kaenova@student.telkomuniversity.ac.id  \n",
    "<sup>2</sup>rhabiy@student.telkomuniversity.ac.id  \n",
    "<sup>3</sup>fendiirfan@student.telkomuniversity.ac.id  \n",
    "<sup>4</sup>aryapangestu@student.telkomuniversity.ac.id  \n",
    "CII1C2-IF-43-GAB05  \n",
    "Informatics Engineering, Telkom University, Indonesia  \n",
    "2020"
   ]
  },
  {
   "cell_type": "markdown",
   "metadata": {},
   "source": [
    "## Research Question, Method, and Prediction\n",
    "### 1. Research Question\n",
    "Orang yang seperti apa bank harus arahkan untuk menaikkan utilisasi kredit yang lebih tinggi? Mengapa orang-orang tersebut tidak mengutilisasikan kredit tersebut?\n",
    "### 2. Method\n",
    "Method yang akan digunakan adalah Statistika Deskriptif, dimana kita akan mengolah data yang sudah diberikan sehingga dapat memberikan informasi yang baru\n",
    "### 3. Prediction\n",
    "Menurut saya, kita akan membutuhkan data ciri-ciri orang-orang tersebut. Sehingga dapat terlihat pola yang ada dengan metode-metode statistika. Prediksi saya orang-orang yang tidak mengutilisasikan kredit tersebut merupakan orang-orang yang dari data memiliki Income yang kurang."
   ]
  },
  {
   "cell_type": "markdown",
   "metadata": {},
   "source": [
    "<h3>Installing Packages and Load Packages</h3>"
   ]
  },
  {
   "cell_type": "code",
   "execution_count": 1,
   "metadata": {
    "scrolled": false
   },
   "outputs": [
    {
     "name": "stdout",
     "output_type": "stream",
     "text": [
      "package 'summarytools' successfully unpacked and MD5 sums checked\n",
      "\n",
      "The downloaded binary packages are in\n",
<<<<<<< HEAD
      "\tC:\\Users\\FENDIIRFANAMOROKHMAN\\AppData\\Local\\Temp\\RtmpaCEWIq\\downloaded_packages\n",
      "package 'dplyr' successfully unpacked and MD5 sums checked\n",
      "\n",
      "The downloaded binary packages are in\n",
      "\tC:\\Users\\FENDIIRFANAMOROKHMAN\\AppData\\Local\\Temp\\RtmpaCEWIq\\downloaded_packages\n",
      "package 'repr' successfully unpacked and MD5 sums checked\n",
      "\n",
      "The downloaded binary packages are in\n",
      "\tC:\\Users\\FENDIIRFANAMOROKHMAN\\AppData\\Local\\Temp\\RtmpaCEWIq\\downloaded_packages\n"
=======
      "\tC:\\Users\\Public\\Documents\\Wondershare\\CreatorTemp\\RtmpUv0ct5\\downloaded_packages\n",
      "package 'dplyr' successfully unpacked and MD5 sums checked\n",
      "\n",
      "The downloaded binary packages are in\n",
      "\tC:\\Users\\Public\\Documents\\Wondershare\\CreatorTemp\\RtmpUv0ct5\\downloaded_packages\n",
      "package 'repr' successfully unpacked and MD5 sums checked\n",
      "\n",
      "The downloaded binary packages are in\n",
      "\tC:\\Users\\Public\\Documents\\Wondershare\\CreatorTemp\\RtmpUv0ct5\\downloaded_packages\n"
>>>>>>> 9a0d376faa441c1113812241c75ae9af7b26a59a
     ]
    },
    {
     "name": "stderr",
     "output_type": "stream",
     "text": [
      "Loading required package: summarytools\n",
      "\n",
      "Registered S3 method overwritten by 'pryr':\n",
      "  method      from\n",
      "  print.bytes Rcpp\n",
      "\n",
      "For best results, restart R session and update pander using devtools:: or remotes::install_github('rapporter/pander')\n",
      "\n",
      "Loading required package: dplyr\n",
      "\n",
      "\n",
      "Attaching package: 'dplyr'\n",
      "\n",
      "\n",
      "The following objects are masked from 'package:stats':\n",
      "\n",
      "    filter, lag\n",
      "\n",
      "\n",
      "The following objects are masked from 'package:base':\n",
      "\n",
      "    intersect, setdiff, setequal, union\n",
      "\n",
      "\n",
      "Loading required package: repr\n",
      "\n"
     ]
    }
   ],
   "source": [
    "install.packages(\"summarytools\", repos = \"https://repo.bppt.go.id/cran/\")\n",
    "install.packages(\"dplyr\", repos = \"https://repo.bppt.go.id/cran/\")\n",
    "install.packages(\"repr\", repos = \"https://repo.bppt.go.id/cran/\")\n",
    "require(\"summarytools\")\n",
    "require(\"dplyr\")\n",
    "require(\"repr\")"
   ]
  },
  {
   "cell_type": "markdown",
   "metadata": {},
   "source": [
    "<h3>Importing Data Frame</h3>"
   ]
  },
  {
   "cell_type": "code",
   "execution_count": 2,
   "metadata": {
    "scrolled": true
   },
   "outputs": [
    {
     "data": {
      "text/html": [
       "<table>\n",
       "<caption>A data.frame: 6 × 23</caption>\n",
       "<thead>\n",
       "\t<tr><th></th><th scope=col>CLIENTNUM</th><th scope=col>Attrition_Flag</th><th scope=col>Customer_Age</th><th scope=col>Gender</th><th scope=col>Dependent_count</th><th scope=col>Education_Level</th><th scope=col>Marital_Status</th><th scope=col>Income_Category</th><th scope=col>Card_Category</th><th scope=col>Months_on_book</th><th scope=col>...</th><th scope=col>Credit_Limit</th><th scope=col>Total_Revolving_Bal</th><th scope=col>Avg_Open_To_Buy</th><th scope=col>Total_Amt_Chng_Q4_Q1</th><th scope=col>Total_Trans_Amt</th><th scope=col>Total_Trans_Ct</th><th scope=col>Total_Ct_Chng_Q4_Q1</th><th scope=col>Avg_Utilization_Ratio</th><th scope=col>Naive_Bayes_Classifier_Attrition_Flag_Card_Category_Contacts_Count_12_mon_Dependent_count_Education_Level_Months_Inactive_12_mon_1</th><th scope=col>Naive_Bayes_Classifier_Attrition_Flag_Card_Category_Contacts_Count_12_mon_Dependent_count_Education_Level_Months_Inactive_12_mon_2</th></tr>\n",
       "\t<tr><th></th><th scope=col>&lt;int&gt;</th><th scope=col>&lt;chr&gt;</th><th scope=col>&lt;int&gt;</th><th scope=col>&lt;chr&gt;</th><th scope=col>&lt;int&gt;</th><th scope=col>&lt;chr&gt;</th><th scope=col>&lt;chr&gt;</th><th scope=col>&lt;chr&gt;</th><th scope=col>&lt;chr&gt;</th><th scope=col>&lt;int&gt;</th><th scope=col>...</th><th scope=col>&lt;dbl&gt;</th><th scope=col>&lt;int&gt;</th><th scope=col>&lt;dbl&gt;</th><th scope=col>&lt;dbl&gt;</th><th scope=col>&lt;int&gt;</th><th scope=col>&lt;int&gt;</th><th scope=col>&lt;dbl&gt;</th><th scope=col>&lt;dbl&gt;</th><th scope=col>&lt;dbl&gt;</th><th scope=col>&lt;dbl&gt;</th></tr>\n",
       "</thead>\n",
       "<tbody>\n",
       "\t<tr><th scope=row>1</th><td>768805383</td><td>Existing Customer</td><td>45</td><td>M</td><td>3</td><td>High School</td><td>Married</td><td>$60K - $80K   </td><td>Blue</td><td>39</td><td>...</td><td>12691</td><td> 777</td><td>11914</td><td>1.335</td><td>1144</td><td>42</td><td>1.625</td><td>0.061</td><td>9.3448e-05</td><td>0.99991</td></tr>\n",
       "\t<tr><th scope=row>2</th><td>818770008</td><td>Existing Customer</td><td>49</td><td>F</td><td>5</td><td>Graduate   </td><td>Single </td><td>Less than $40K</td><td>Blue</td><td>44</td><td>...</td><td> 8256</td><td> 864</td><td> 7392</td><td>1.541</td><td>1291</td><td>33</td><td>3.714</td><td>0.105</td><td>5.6861e-05</td><td>0.99994</td></tr>\n",
       "\t<tr><th scope=row>3</th><td>713982108</td><td>Existing Customer</td><td>51</td><td>M</td><td>3</td><td>Graduate   </td><td>Married</td><td>$80K - $120K  </td><td>Blue</td><td>36</td><td>...</td><td> 3418</td><td>   0</td><td> 3418</td><td>2.594</td><td>1887</td><td>20</td><td>2.333</td><td>0.000</td><td>2.1081e-05</td><td>0.99998</td></tr>\n",
       "\t<tr><th scope=row>4</th><td>769911858</td><td>Existing Customer</td><td>40</td><td>F</td><td>4</td><td>High School</td><td>Unknown</td><td>Less than $40K</td><td>Blue</td><td>34</td><td>...</td><td> 3313</td><td>2517</td><td>  796</td><td>1.405</td><td>1171</td><td>20</td><td>2.333</td><td>0.760</td><td>1.3366e-04</td><td>0.99987</td></tr>\n",
       "\t<tr><th scope=row>5</th><td>709106358</td><td>Existing Customer</td><td>40</td><td>M</td><td>3</td><td>Uneducated </td><td>Married</td><td>$60K - $80K   </td><td>Blue</td><td>21</td><td>...</td><td> 4716</td><td>   0</td><td> 4716</td><td>2.175</td><td> 816</td><td>28</td><td>2.500</td><td>0.000</td><td>2.1676e-05</td><td>0.99998</td></tr>\n",
       "\t<tr><th scope=row>6</th><td>713061558</td><td>Existing Customer</td><td>44</td><td>M</td><td>2</td><td>Graduate   </td><td>Married</td><td>$40K - $60K   </td><td>Blue</td><td>36</td><td>...</td><td> 4010</td><td>1247</td><td> 2763</td><td>1.376</td><td>1088</td><td>24</td><td>0.846</td><td>0.311</td><td>5.5077e-05</td><td>0.99994</td></tr>\n",
       "</tbody>\n",
       "</table>\n"
      ],
      "text/latex": [
       "A data.frame: 6 × 23\n",
       "\\begin{tabular}{r|lllllllllllllllllllll}\n",
       "  & CLIENTNUM & Attrition\\_Flag & Customer\\_Age & Gender & Dependent\\_count & Education\\_Level & Marital\\_Status & Income\\_Category & Card\\_Category & Months\\_on\\_book & ... & Credit\\_Limit & Total\\_Revolving\\_Bal & Avg\\_Open\\_To\\_Buy & Total\\_Amt\\_Chng\\_Q4\\_Q1 & Total\\_Trans\\_Amt & Total\\_Trans\\_Ct & Total\\_Ct\\_Chng\\_Q4\\_Q1 & Avg\\_Utilization\\_Ratio & Naive\\_Bayes\\_Classifier\\_Attrition\\_Flag\\_Card\\_Category\\_Contacts\\_Count\\_12\\_mon\\_Dependent\\_count\\_Education\\_Level\\_Months\\_Inactive\\_12\\_mon\\_1 & Naive\\_Bayes\\_Classifier\\_Attrition\\_Flag\\_Card\\_Category\\_Contacts\\_Count\\_12\\_mon\\_Dependent\\_count\\_Education\\_Level\\_Months\\_Inactive\\_12\\_mon\\_2\\\\\n",
       "  & <int> & <chr> & <int> & <chr> & <int> & <chr> & <chr> & <chr> & <chr> & <int> & ... & <dbl> & <int> & <dbl> & <dbl> & <int> & <int> & <dbl> & <dbl> & <dbl> & <dbl>\\\\\n",
       "\\hline\n",
       "\t1 & 768805383 & Existing Customer & 45 & M & 3 & High School & Married & \\$60K - \\$80K    & Blue & 39 & ... & 12691 &  777 & 11914 & 1.335 & 1144 & 42 & 1.625 & 0.061 & 9.3448e-05 & 0.99991\\\\\n",
       "\t2 & 818770008 & Existing Customer & 49 & F & 5 & Graduate    & Single  & Less than \\$40K & Blue & 44 & ... &  8256 &  864 &  7392 & 1.541 & 1291 & 33 & 3.714 & 0.105 & 5.6861e-05 & 0.99994\\\\\n",
       "\t3 & 713982108 & Existing Customer & 51 & M & 3 & Graduate    & Married & \\$80K - \\$120K   & Blue & 36 & ... &  3418 &    0 &  3418 & 2.594 & 1887 & 20 & 2.333 & 0.000 & 2.1081e-05 & 0.99998\\\\\n",
       "\t4 & 769911858 & Existing Customer & 40 & F & 4 & High School & Unknown & Less than \\$40K & Blue & 34 & ... &  3313 & 2517 &   796 & 1.405 & 1171 & 20 & 2.333 & 0.760 & 1.3366e-04 & 0.99987\\\\\n",
       "\t5 & 709106358 & Existing Customer & 40 & M & 3 & Uneducated  & Married & \\$60K - \\$80K    & Blue & 21 & ... &  4716 &    0 &  4716 & 2.175 &  816 & 28 & 2.500 & 0.000 & 2.1676e-05 & 0.99998\\\\\n",
       "\t6 & 713061558 & Existing Customer & 44 & M & 2 & Graduate    & Married & \\$40K - \\$60K    & Blue & 36 & ... &  4010 & 1247 &  2763 & 1.376 & 1088 & 24 & 0.846 & 0.311 & 5.5077e-05 & 0.99994\\\\\n",
       "\\end{tabular}\n"
      ],
      "text/markdown": [
       "\n",
       "A data.frame: 6 × 23\n",
       "\n",
       "| <!--/--> | CLIENTNUM &lt;int&gt; | Attrition_Flag &lt;chr&gt; | Customer_Age &lt;int&gt; | Gender &lt;chr&gt; | Dependent_count &lt;int&gt; | Education_Level &lt;chr&gt; | Marital_Status &lt;chr&gt; | Income_Category &lt;chr&gt; | Card_Category &lt;chr&gt; | Months_on_book &lt;int&gt; | ... ... | Credit_Limit &lt;dbl&gt; | Total_Revolving_Bal &lt;int&gt; | Avg_Open_To_Buy &lt;dbl&gt; | Total_Amt_Chng_Q4_Q1 &lt;dbl&gt; | Total_Trans_Amt &lt;int&gt; | Total_Trans_Ct &lt;int&gt; | Total_Ct_Chng_Q4_Q1 &lt;dbl&gt; | Avg_Utilization_Ratio &lt;dbl&gt; | Naive_Bayes_Classifier_Attrition_Flag_Card_Category_Contacts_Count_12_mon_Dependent_count_Education_Level_Months_Inactive_12_mon_1 &lt;dbl&gt; | Naive_Bayes_Classifier_Attrition_Flag_Card_Category_Contacts_Count_12_mon_Dependent_count_Education_Level_Months_Inactive_12_mon_2 &lt;dbl&gt; |\n",
       "|---|---|---|---|---|---|---|---|---|---|---|---|---|---|---|---|---|---|---|---|---|---|\n",
       "| 1 | 768805383 | Existing Customer | 45 | M | 3 | High School | Married | $60K - $80K    | Blue | 39 | ... | 12691 |  777 | 11914 | 1.335 | 1144 | 42 | 1.625 | 0.061 | 9.3448e-05 | 0.99991 |\n",
       "| 2 | 818770008 | Existing Customer | 49 | F | 5 | Graduate    | Single  | Less than $40K | Blue | 44 | ... |  8256 |  864 |  7392 | 1.541 | 1291 | 33 | 3.714 | 0.105 | 5.6861e-05 | 0.99994 |\n",
       "| 3 | 713982108 | Existing Customer | 51 | M | 3 | Graduate    | Married | $80K - $120K   | Blue | 36 | ... |  3418 |    0 |  3418 | 2.594 | 1887 | 20 | 2.333 | 0.000 | 2.1081e-05 | 0.99998 |\n",
       "| 4 | 769911858 | Existing Customer | 40 | F | 4 | High School | Unknown | Less than $40K | Blue | 34 | ... |  3313 | 2517 |   796 | 1.405 | 1171 | 20 | 2.333 | 0.760 | 1.3366e-04 | 0.99987 |\n",
       "| 5 | 709106358 | Existing Customer | 40 | M | 3 | Uneducated  | Married | $60K - $80K    | Blue | 21 | ... |  4716 |    0 |  4716 | 2.175 |  816 | 28 | 2.500 | 0.000 | 2.1676e-05 | 0.99998 |\n",
       "| 6 | 713061558 | Existing Customer | 44 | M | 2 | Graduate    | Married | $40K - $60K    | Blue | 36 | ... |  4010 | 1247 |  2763 | 1.376 | 1088 | 24 | 0.846 | 0.311 | 5.5077e-05 | 0.99994 |\n",
       "\n"
      ],
      "text/plain": [
       "  CLIENTNUM Attrition_Flag    Customer_Age Gender Dependent_count\n",
       "1 768805383 Existing Customer 45           M      3              \n",
       "2 818770008 Existing Customer 49           F      5              \n",
       "3 713982108 Existing Customer 51           M      3              \n",
       "4 769911858 Existing Customer 40           F      4              \n",
       "5 709106358 Existing Customer 40           M      3              \n",
       "6 713061558 Existing Customer 44           M      2              \n",
       "  Education_Level Marital_Status Income_Category Card_Category Months_on_book\n",
       "1 High School     Married        $60K - $80K     Blue          39            \n",
       "2 Graduate        Single         Less than $40K  Blue          44            \n",
       "3 Graduate        Married        $80K - $120K    Blue          36            \n",
       "4 High School     Unknown        Less than $40K  Blue          34            \n",
       "5 Uneducated      Married        $60K - $80K     Blue          21            \n",
       "6 Graduate        Married        $40K - $60K     Blue          36            \n",
       "  ... Credit_Limit Total_Revolving_Bal Avg_Open_To_Buy Total_Amt_Chng_Q4_Q1\n",
       "1 ... 12691         777                11914           1.335               \n",
       "2 ...  8256         864                 7392           1.541               \n",
       "3 ...  3418           0                 3418           2.594               \n",
       "4 ...  3313        2517                  796           1.405               \n",
       "5 ...  4716           0                 4716           2.175               \n",
       "6 ...  4010        1247                 2763           1.376               \n",
       "  Total_Trans_Amt Total_Trans_Ct Total_Ct_Chng_Q4_Q1 Avg_Utilization_Ratio\n",
       "1 1144            42             1.625               0.061                \n",
       "2 1291            33             3.714               0.105                \n",
       "3 1887            20             2.333               0.000                \n",
       "4 1171            20             2.333               0.760                \n",
       "5  816            28             2.500               0.000                \n",
       "6 1088            24             0.846               0.311                \n",
       "  Naive_Bayes_Classifier_Attrition_Flag_Card_Category_Contacts_Count_12_mon_Dependent_count_Education_Level_Months_Inactive_12_mon_1\n",
       "1 9.3448e-05                                                                                                                        \n",
       "2 5.6861e-05                                                                                                                        \n",
       "3 2.1081e-05                                                                                                                        \n",
       "4 1.3366e-04                                                                                                                        \n",
       "5 2.1676e-05                                                                                                                        \n",
       "6 5.5077e-05                                                                                                                        \n",
       "  Naive_Bayes_Classifier_Attrition_Flag_Card_Category_Contacts_Count_12_mon_Dependent_count_Education_Level_Months_Inactive_12_mon_2\n",
       "1 0.99991                                                                                                                           \n",
       "2 0.99994                                                                                                                           \n",
       "3 0.99998                                                                                                                           \n",
       "4 0.99987                                                                                                                           \n",
       "5 0.99998                                                                                                                           \n",
       "6 0.99994                                                                                                                           "
      ]
     },
     "metadata": {},
     "output_type": "display_data"
    },
    {
     "data": {
      "text/html": [
       "<table>\n",
       "<caption>A summarytools: 15 × 17 of type dbl</caption>\n",
       "<thead>\n",
       "\t<tr><th></th><th scope=col>Avg_Open_To_Buy</th><th scope=col>Avg_Utilization_Ratio</th><th scope=col>CLIENTNUM</th><th scope=col>Contacts_Count_12_mon</th><th scope=col>Credit_Limit</th><th scope=col>Customer_Age</th><th scope=col>Dependent_count</th><th scope=col>Months_Inactive_12_mon</th><th scope=col>Months_on_book</th><th scope=col>Naive_Bayes_Classifier_Attrition_Flag_Card_Category_Contacts_Count_12_mon_Dependent_count_Education_Level_Months_Inactive_12_mon_1</th><th scope=col>Naive_Bayes_Classifier_Attrition_Flag_Card_Category_Contacts_Count_12_mon_Dependent_count_Education_Level_Months_Inactive_12_mon_2</th><th scope=col>Total_Amt_Chng_Q4_Q1</th><th scope=col>Total_Ct_Chng_Q4_Q1</th><th scope=col>Total_Relationship_Count</th><th scope=col>Total_Revolving_Bal</th><th scope=col>Total_Trans_Amt</th><th scope=col>Total_Trans_Ct</th></tr>\n",
       "</thead>\n",
       "<tbody>\n",
       "\t<tr><th scope=row>Mean</th><td>7.469140e+03</td><td> 2.748936e-01</td><td> 7.391776e+08</td><td> 2.455317e+00</td><td>8.631954e+03</td><td> 4.632596e+01</td><td> 2.346203e+00</td><td>2.341167e+00</td><td> 3.592841e+01</td><td>1.599975e-01</td><td> 8.400026e-01</td><td>7.599407e-01</td><td>7.122224e-01</td><td> 3.812580e+00</td><td> 1.162814e+03</td><td>4.404086e+03</td><td> 6.485869e+01</td></tr>\n",
       "\t<tr><th scope=row>Std.Dev</th><td>9.090685e+03</td><td> 2.756915e-01</td><td> 3.690378e+07</td><td> 1.106225e+00</td><td>9.088777e+03</td><td> 8.016814e+00</td><td> 1.298908e+00</td><td>1.010622e+00</td><td> 7.986416e+00</td><td>3.653010e-01</td><td> 3.653010e-01</td><td>2.192068e-01</td><td>2.380861e-01</td><td> 1.554408e+00</td><td> 8.149873e+02</td><td>3.397129e+03</td><td> 2.347257e+01</td></tr>\n",
       "\t<tr><th scope=row>Min</th><td>3.000000e+00</td><td> 0.000000e+00</td><td> 7.080821e+08</td><td> 0.000000e+00</td><td>1.438300e+03</td><td> 2.600000e+01</td><td> 0.000000e+00</td><td>0.000000e+00</td><td> 1.300000e+01</td><td>7.664200e-06</td><td> 4.199800e-04</td><td>0.000000e+00</td><td>0.000000e+00</td><td> 1.000000e+00</td><td> 0.000000e+00</td><td>5.100000e+02</td><td> 1.000000e+01</td></tr>\n",
       "\t<tr><th scope=row>Q1</th><td>1.324000e+03</td><td> 2.300000e-02</td><td> 7.130362e+08</td><td> 2.000000e+00</td><td>2.555000e+03</td><td> 4.100000e+01</td><td> 1.000000e+00</td><td>2.000000e+00</td><td> 3.100000e+01</td><td>9.898300e-05</td><td> 9.996600e-01</td><td>6.310000e-01</td><td>5.820000e-01</td><td> 3.000000e+00</td><td> 3.570000e+02</td><td>2.155000e+03</td><td> 4.500000e+01</td></tr>\n",
       "\t<tr><th scope=row>Median</th><td>3.474000e+03</td><td> 1.760000e-01</td><td> 7.179264e+08</td><td> 2.000000e+00</td><td>4.549000e+03</td><td> 4.600000e+01</td><td> 2.000000e+00</td><td>2.000000e+00</td><td> 3.600000e+01</td><td>1.814600e-04</td><td> 9.998200e-01</td><td>7.360000e-01</td><td>7.020000e-01</td><td> 4.000000e+00</td><td> 1.276000e+03</td><td>3.899000e+03</td><td> 6.700000e+01</td></tr>\n",
       "\t<tr><th scope=row>Q3</th><td>9.861000e+03</td><td> 5.030000e-01</td><td> 7.731464e+08</td><td> 3.000000e+00</td><td>1.106800e+04</td><td> 5.200000e+01</td><td> 3.000000e+00</td><td>3.000000e+00</td><td> 4.000000e+01</td><td>3.373000e-04</td><td> 9.999000e-01</td><td>8.590000e-01</td><td>8.180000e-01</td><td> 5.000000e+00</td><td> 1.784000e+03</td><td>4.741000e+03</td><td> 8.100000e+01</td></tr>\n",
       "\t<tr><th scope=row>Max</th><td>3.451600e+04</td><td> 9.990000e-01</td><td> 8.283431e+08</td><td> 6.000000e+00</td><td>3.451600e+04</td><td> 7.300000e+01</td><td> 5.000000e+00</td><td>6.000000e+00</td><td> 5.600000e+01</td><td>9.995800e-01</td><td> 9.999900e-01</td><td>3.397000e+00</td><td>3.714000e+00</td><td> 6.000000e+00</td><td> 2.517000e+03</td><td>1.848400e+04</td><td> 1.390000e+02</td></tr>\n",
       "\t<tr><th scope=row>MAD</th><td>3.951129e+03</td><td> 2.609376e-01</td><td> 9.411100e+06</td><td> 1.482600e+00</td><td>3.844382e+03</td><td> 8.895600e+00</td><td> 1.482600e+00</td><td>1.482600e+00</td><td> 5.930400e+00</td><td>1.634329e-04</td><td> 1.630860e-04</td><td>1.690164e-01</td><td>1.764294e-01</td><td> 1.482600e+00</td><td> 8.762166e+02</td><td>1.939241e+03</td><td> 2.520420e+01</td></tr>\n",
       "\t<tr><th scope=row>IQR</th><td>8.534500e+03</td><td> 4.800000e-01</td><td> 6.010676e+07</td><td> 1.000000e+00</td><td>8.512500e+03</td><td> 1.100000e+01</td><td> 2.000000e+00</td><td>1.000000e+00</td><td> 9.000000e+00</td><td>2.383170e-04</td><td> 2.400000e-04</td><td>2.280000e-01</td><td>2.360000e-01</td><td> 2.000000e+00</td><td> 1.425000e+03</td><td>2.585500e+03</td><td> 3.600000e+01</td></tr>\n",
       "\t<tr><th scope=row>CV</th><td>1.217099e+00</td><td> 1.002903e+00</td><td> 4.992546e-02</td><td> 4.505426e-01</td><td>1.052922e+00</td><td> 1.730523e-01</td><td> 5.536214e-01</td><td>4.316746e-01</td><td> 2.222869e-01</td><td>2.283168e+00</td><td> 4.348809e-01</td><td>2.884525e-01</td><td>3.342862e-01</td><td> 4.077050e-01</td><td> 7.008750e-01</td><td>7.713585e-01</td><td> 3.619032e-01</td></tr>\n",
       "\t<tr><th scope=row>Skewness</th><td>1.661204e+00</td><td> 7.177953e-01</td><td> 9.953061e-01</td><td> 1.100237e-02</td><td>1.666232e+00</td><td>-3.359506e-02</td><td>-2.081937e-02</td><td>6.328736e-01</td><td>-1.065338e-01</td><td>1.847991e+00</td><td>-1.847991e+00</td><td>1.731550e+00</td><td>2.063419e+00</td><td>-1.624043e-01</td><td>-1.487932e-01</td><td>2.040399e+00</td><td> 1.536275e-01</td></tr>\n",
       "\t<tr><th scope=row>SE.Skewness</th><td>2.433722e-02</td><td> 2.433722e-02</td><td> 2.433722e-02</td><td> 2.433722e-02</td><td>2.433722e-02</td><td> 2.433722e-02</td><td> 2.433722e-02</td><td>2.433722e-02</td><td> 2.433722e-02</td><td>2.433722e-02</td><td> 2.433722e-02</td><td>2.433722e-02</td><td>2.433722e-02</td><td> 2.433722e-02</td><td> 2.433722e-02</td><td>2.433722e-02</td><td> 2.433722e-02</td></tr>\n",
       "\t<tr><th scope=row>Kurtosis</th><td>1.796190e+00</td><td>-7.956073e-01</td><td>-6.163990e-01</td><td>-3.226859e-04</td><td>1.806554e+00</td><td>-2.896052e-01</td><td>-6.837294e-01</td><td>1.096579e+00</td><td> 3.986389e-01</td><td>1.415371e+00</td><td> 1.415371e+00</td><td>9.985410e+00</td><td>1.567727e+01</td><td>-1.006620e+00</td><td>-1.146385e+00</td><td>3.890148e+00</td><td>-3.680943e-01</td></tr>\n",
       "\t<tr><th scope=row>N.Valid</th><td>1.012700e+04</td><td> 1.012700e+04</td><td> 1.012700e+04</td><td> 1.012700e+04</td><td>1.012700e+04</td><td> 1.012700e+04</td><td> 1.012700e+04</td><td>1.012700e+04</td><td> 1.012700e+04</td><td>1.012700e+04</td><td> 1.012700e+04</td><td>1.012700e+04</td><td>1.012700e+04</td><td> 1.012700e+04</td><td> 1.012700e+04</td><td>1.012700e+04</td><td> 1.012700e+04</td></tr>\n",
       "\t<tr><th scope=row>Pct.Valid</th><td>1.000000e+02</td><td> 1.000000e+02</td><td> 1.000000e+02</td><td> 1.000000e+02</td><td>1.000000e+02</td><td> 1.000000e+02</td><td> 1.000000e+02</td><td>1.000000e+02</td><td> 1.000000e+02</td><td>1.000000e+02</td><td> 1.000000e+02</td><td>1.000000e+02</td><td>1.000000e+02</td><td> 1.000000e+02</td><td> 1.000000e+02</td><td>1.000000e+02</td><td> 1.000000e+02</td></tr>\n",
       "</tbody>\n",
       "</table>\n"
      ],
      "text/latex": [
       "A summarytools: 15 × 17 of type dbl\n",
       "\\begin{tabular}{r|lllllllllllllllll}\n",
       "  & Avg\\_Open\\_To\\_Buy & Avg\\_Utilization\\_Ratio & CLIENTNUM & Contacts\\_Count\\_12\\_mon & Credit\\_Limit & Customer\\_Age & Dependent\\_count & Months\\_Inactive\\_12\\_mon & Months\\_on\\_book & Naive\\_Bayes\\_Classifier\\_Attrition\\_Flag\\_Card\\_Category\\_Contacts\\_Count\\_12\\_mon\\_Dependent\\_count\\_Education\\_Level\\_Months\\_Inactive\\_12\\_mon\\_1 & Naive\\_Bayes\\_Classifier\\_Attrition\\_Flag\\_Card\\_Category\\_Contacts\\_Count\\_12\\_mon\\_Dependent\\_count\\_Education\\_Level\\_Months\\_Inactive\\_12\\_mon\\_2 & Total\\_Amt\\_Chng\\_Q4\\_Q1 & Total\\_Ct\\_Chng\\_Q4\\_Q1 & Total\\_Relationship\\_Count & Total\\_Revolving\\_Bal & Total\\_Trans\\_Amt & Total\\_Trans\\_Ct\\\\\n",
       "\\hline\n",
       "\tMean & 7.469140e+03 &  2.748936e-01 &  7.391776e+08 &  2.455317e+00 & 8.631954e+03 &  4.632596e+01 &  2.346203e+00 & 2.341167e+00 &  3.592841e+01 & 1.599975e-01 &  8.400026e-01 & 7.599407e-01 & 7.122224e-01 &  3.812580e+00 &  1.162814e+03 & 4.404086e+03 &  6.485869e+01\\\\\n",
       "\tStd.Dev & 9.090685e+03 &  2.756915e-01 &  3.690378e+07 &  1.106225e+00 & 9.088777e+03 &  8.016814e+00 &  1.298908e+00 & 1.010622e+00 &  7.986416e+00 & 3.653010e-01 &  3.653010e-01 & 2.192068e-01 & 2.380861e-01 &  1.554408e+00 &  8.149873e+02 & 3.397129e+03 &  2.347257e+01\\\\\n",
       "\tMin & 3.000000e+00 &  0.000000e+00 &  7.080821e+08 &  0.000000e+00 & 1.438300e+03 &  2.600000e+01 &  0.000000e+00 & 0.000000e+00 &  1.300000e+01 & 7.664200e-06 &  4.199800e-04 & 0.000000e+00 & 0.000000e+00 &  1.000000e+00 &  0.000000e+00 & 5.100000e+02 &  1.000000e+01\\\\\n",
       "\tQ1 & 1.324000e+03 &  2.300000e-02 &  7.130362e+08 &  2.000000e+00 & 2.555000e+03 &  4.100000e+01 &  1.000000e+00 & 2.000000e+00 &  3.100000e+01 & 9.898300e-05 &  9.996600e-01 & 6.310000e-01 & 5.820000e-01 &  3.000000e+00 &  3.570000e+02 & 2.155000e+03 &  4.500000e+01\\\\\n",
       "\tMedian & 3.474000e+03 &  1.760000e-01 &  7.179264e+08 &  2.000000e+00 & 4.549000e+03 &  4.600000e+01 &  2.000000e+00 & 2.000000e+00 &  3.600000e+01 & 1.814600e-04 &  9.998200e-01 & 7.360000e-01 & 7.020000e-01 &  4.000000e+00 &  1.276000e+03 & 3.899000e+03 &  6.700000e+01\\\\\n",
       "\tQ3 & 9.861000e+03 &  5.030000e-01 &  7.731464e+08 &  3.000000e+00 & 1.106800e+04 &  5.200000e+01 &  3.000000e+00 & 3.000000e+00 &  4.000000e+01 & 3.373000e-04 &  9.999000e-01 & 8.590000e-01 & 8.180000e-01 &  5.000000e+00 &  1.784000e+03 & 4.741000e+03 &  8.100000e+01\\\\\n",
       "\tMax & 3.451600e+04 &  9.990000e-01 &  8.283431e+08 &  6.000000e+00 & 3.451600e+04 &  7.300000e+01 &  5.000000e+00 & 6.000000e+00 &  5.600000e+01 & 9.995800e-01 &  9.999900e-01 & 3.397000e+00 & 3.714000e+00 &  6.000000e+00 &  2.517000e+03 & 1.848400e+04 &  1.390000e+02\\\\\n",
       "\tMAD & 3.951129e+03 &  2.609376e-01 &  9.411100e+06 &  1.482600e+00 & 3.844382e+03 &  8.895600e+00 &  1.482600e+00 & 1.482600e+00 &  5.930400e+00 & 1.634329e-04 &  1.630860e-04 & 1.690164e-01 & 1.764294e-01 &  1.482600e+00 &  8.762166e+02 & 1.939241e+03 &  2.520420e+01\\\\\n",
       "\tIQR & 8.534500e+03 &  4.800000e-01 &  6.010676e+07 &  1.000000e+00 & 8.512500e+03 &  1.100000e+01 &  2.000000e+00 & 1.000000e+00 &  9.000000e+00 & 2.383170e-04 &  2.400000e-04 & 2.280000e-01 & 2.360000e-01 &  2.000000e+00 &  1.425000e+03 & 2.585500e+03 &  3.600000e+01\\\\\n",
       "\tCV & 1.217099e+00 &  1.002903e+00 &  4.992546e-02 &  4.505426e-01 & 1.052922e+00 &  1.730523e-01 &  5.536214e-01 & 4.316746e-01 &  2.222869e-01 & 2.283168e+00 &  4.348809e-01 & 2.884525e-01 & 3.342862e-01 &  4.077050e-01 &  7.008750e-01 & 7.713585e-01 &  3.619032e-01\\\\\n",
       "\tSkewness & 1.661204e+00 &  7.177953e-01 &  9.953061e-01 &  1.100237e-02 & 1.666232e+00 & -3.359506e-02 & -2.081937e-02 & 6.328736e-01 & -1.065338e-01 & 1.847991e+00 & -1.847991e+00 & 1.731550e+00 & 2.063419e+00 & -1.624043e-01 & -1.487932e-01 & 2.040399e+00 &  1.536275e-01\\\\\n",
       "\tSE.Skewness & 2.433722e-02 &  2.433722e-02 &  2.433722e-02 &  2.433722e-02 & 2.433722e-02 &  2.433722e-02 &  2.433722e-02 & 2.433722e-02 &  2.433722e-02 & 2.433722e-02 &  2.433722e-02 & 2.433722e-02 & 2.433722e-02 &  2.433722e-02 &  2.433722e-02 & 2.433722e-02 &  2.433722e-02\\\\\n",
       "\tKurtosis & 1.796190e+00 & -7.956073e-01 & -6.163990e-01 & -3.226859e-04 & 1.806554e+00 & -2.896052e-01 & -6.837294e-01 & 1.096579e+00 &  3.986389e-01 & 1.415371e+00 &  1.415371e+00 & 9.985410e+00 & 1.567727e+01 & -1.006620e+00 & -1.146385e+00 & 3.890148e+00 & -3.680943e-01\\\\\n",
       "\tN.Valid & 1.012700e+04 &  1.012700e+04 &  1.012700e+04 &  1.012700e+04 & 1.012700e+04 &  1.012700e+04 &  1.012700e+04 & 1.012700e+04 &  1.012700e+04 & 1.012700e+04 &  1.012700e+04 & 1.012700e+04 & 1.012700e+04 &  1.012700e+04 &  1.012700e+04 & 1.012700e+04 &  1.012700e+04\\\\\n",
       "\tPct.Valid & 1.000000e+02 &  1.000000e+02 &  1.000000e+02 &  1.000000e+02 & 1.000000e+02 &  1.000000e+02 &  1.000000e+02 & 1.000000e+02 &  1.000000e+02 & 1.000000e+02 &  1.000000e+02 & 1.000000e+02 & 1.000000e+02 &  1.000000e+02 &  1.000000e+02 & 1.000000e+02 &  1.000000e+02\\\\\n",
       "\\end{tabular}\n"
      ],
      "text/markdown": [
       "\n",
       "A summarytools: 15 × 17 of type dbl\n",
       "\n",
       "| <!--/--> | Avg_Open_To_Buy | Avg_Utilization_Ratio | CLIENTNUM | Contacts_Count_12_mon | Credit_Limit | Customer_Age | Dependent_count | Months_Inactive_12_mon | Months_on_book | Naive_Bayes_Classifier_Attrition_Flag_Card_Category_Contacts_Count_12_mon_Dependent_count_Education_Level_Months_Inactive_12_mon_1 | Naive_Bayes_Classifier_Attrition_Flag_Card_Category_Contacts_Count_12_mon_Dependent_count_Education_Level_Months_Inactive_12_mon_2 | Total_Amt_Chng_Q4_Q1 | Total_Ct_Chng_Q4_Q1 | Total_Relationship_Count | Total_Revolving_Bal | Total_Trans_Amt | Total_Trans_Ct |\n",
       "|---|---|---|---|---|---|---|---|---|---|---|---|---|---|---|---|---|---|\n",
       "| Mean | 7.469140e+03 |  2.748936e-01 |  7.391776e+08 |  2.455317e+00 | 8.631954e+03 |  4.632596e+01 |  2.346203e+00 | 2.341167e+00 |  3.592841e+01 | 1.599975e-01 |  8.400026e-01 | 7.599407e-01 | 7.122224e-01 |  3.812580e+00 |  1.162814e+03 | 4.404086e+03 |  6.485869e+01 |\n",
       "| Std.Dev | 9.090685e+03 |  2.756915e-01 |  3.690378e+07 |  1.106225e+00 | 9.088777e+03 |  8.016814e+00 |  1.298908e+00 | 1.010622e+00 |  7.986416e+00 | 3.653010e-01 |  3.653010e-01 | 2.192068e-01 | 2.380861e-01 |  1.554408e+00 |  8.149873e+02 | 3.397129e+03 |  2.347257e+01 |\n",
       "| Min | 3.000000e+00 |  0.000000e+00 |  7.080821e+08 |  0.000000e+00 | 1.438300e+03 |  2.600000e+01 |  0.000000e+00 | 0.000000e+00 |  1.300000e+01 | 7.664200e-06 |  4.199800e-04 | 0.000000e+00 | 0.000000e+00 |  1.000000e+00 |  0.000000e+00 | 5.100000e+02 |  1.000000e+01 |\n",
       "| Q1 | 1.324000e+03 |  2.300000e-02 |  7.130362e+08 |  2.000000e+00 | 2.555000e+03 |  4.100000e+01 |  1.000000e+00 | 2.000000e+00 |  3.100000e+01 | 9.898300e-05 |  9.996600e-01 | 6.310000e-01 | 5.820000e-01 |  3.000000e+00 |  3.570000e+02 | 2.155000e+03 |  4.500000e+01 |\n",
       "| Median | 3.474000e+03 |  1.760000e-01 |  7.179264e+08 |  2.000000e+00 | 4.549000e+03 |  4.600000e+01 |  2.000000e+00 | 2.000000e+00 |  3.600000e+01 | 1.814600e-04 |  9.998200e-01 | 7.360000e-01 | 7.020000e-01 |  4.000000e+00 |  1.276000e+03 | 3.899000e+03 |  6.700000e+01 |\n",
       "| Q3 | 9.861000e+03 |  5.030000e-01 |  7.731464e+08 |  3.000000e+00 | 1.106800e+04 |  5.200000e+01 |  3.000000e+00 | 3.000000e+00 |  4.000000e+01 | 3.373000e-04 |  9.999000e-01 | 8.590000e-01 | 8.180000e-01 |  5.000000e+00 |  1.784000e+03 | 4.741000e+03 |  8.100000e+01 |\n",
       "| Max | 3.451600e+04 |  9.990000e-01 |  8.283431e+08 |  6.000000e+00 | 3.451600e+04 |  7.300000e+01 |  5.000000e+00 | 6.000000e+00 |  5.600000e+01 | 9.995800e-01 |  9.999900e-01 | 3.397000e+00 | 3.714000e+00 |  6.000000e+00 |  2.517000e+03 | 1.848400e+04 |  1.390000e+02 |\n",
       "| MAD | 3.951129e+03 |  2.609376e-01 |  9.411100e+06 |  1.482600e+00 | 3.844382e+03 |  8.895600e+00 |  1.482600e+00 | 1.482600e+00 |  5.930400e+00 | 1.634329e-04 |  1.630860e-04 | 1.690164e-01 | 1.764294e-01 |  1.482600e+00 |  8.762166e+02 | 1.939241e+03 |  2.520420e+01 |\n",
       "| IQR | 8.534500e+03 |  4.800000e-01 |  6.010676e+07 |  1.000000e+00 | 8.512500e+03 |  1.100000e+01 |  2.000000e+00 | 1.000000e+00 |  9.000000e+00 | 2.383170e-04 |  2.400000e-04 | 2.280000e-01 | 2.360000e-01 |  2.000000e+00 |  1.425000e+03 | 2.585500e+03 |  3.600000e+01 |\n",
       "| CV | 1.217099e+00 |  1.002903e+00 |  4.992546e-02 |  4.505426e-01 | 1.052922e+00 |  1.730523e-01 |  5.536214e-01 | 4.316746e-01 |  2.222869e-01 | 2.283168e+00 |  4.348809e-01 | 2.884525e-01 | 3.342862e-01 |  4.077050e-01 |  7.008750e-01 | 7.713585e-01 |  3.619032e-01 |\n",
       "| Skewness | 1.661204e+00 |  7.177953e-01 |  9.953061e-01 |  1.100237e-02 | 1.666232e+00 | -3.359506e-02 | -2.081937e-02 | 6.328736e-01 | -1.065338e-01 | 1.847991e+00 | -1.847991e+00 | 1.731550e+00 | 2.063419e+00 | -1.624043e-01 | -1.487932e-01 | 2.040399e+00 |  1.536275e-01 |\n",
       "| SE.Skewness | 2.433722e-02 |  2.433722e-02 |  2.433722e-02 |  2.433722e-02 | 2.433722e-02 |  2.433722e-02 |  2.433722e-02 | 2.433722e-02 |  2.433722e-02 | 2.433722e-02 |  2.433722e-02 | 2.433722e-02 | 2.433722e-02 |  2.433722e-02 |  2.433722e-02 | 2.433722e-02 |  2.433722e-02 |\n",
       "| Kurtosis | 1.796190e+00 | -7.956073e-01 | -6.163990e-01 | -3.226859e-04 | 1.806554e+00 | -2.896052e-01 | -6.837294e-01 | 1.096579e+00 |  3.986389e-01 | 1.415371e+00 |  1.415371e+00 | 9.985410e+00 | 1.567727e+01 | -1.006620e+00 | -1.146385e+00 | 3.890148e+00 | -3.680943e-01 |\n",
       "| N.Valid | 1.012700e+04 |  1.012700e+04 |  1.012700e+04 |  1.012700e+04 | 1.012700e+04 |  1.012700e+04 |  1.012700e+04 | 1.012700e+04 |  1.012700e+04 | 1.012700e+04 |  1.012700e+04 | 1.012700e+04 | 1.012700e+04 |  1.012700e+04 |  1.012700e+04 | 1.012700e+04 |  1.012700e+04 |\n",
       "| Pct.Valid | 1.000000e+02 |  1.000000e+02 |  1.000000e+02 |  1.000000e+02 | 1.000000e+02 |  1.000000e+02 |  1.000000e+02 | 1.000000e+02 |  1.000000e+02 | 1.000000e+02 |  1.000000e+02 | 1.000000e+02 | 1.000000e+02 |  1.000000e+02 |  1.000000e+02 | 1.000000e+02 |  1.000000e+02 |\n",
       "\n"
      ],
      "text/plain": [
       "            Avg_Open_To_Buy Avg_Utilization_Ratio CLIENTNUM    \n",
       "Mean        7.469140e+03     2.748936e-01          7.391776e+08\n",
       "Std.Dev     9.090685e+03     2.756915e-01          3.690378e+07\n",
       "Min         3.000000e+00     0.000000e+00          7.080821e+08\n",
       "Q1          1.324000e+03     2.300000e-02          7.130362e+08\n",
       "Median      3.474000e+03     1.760000e-01          7.179264e+08\n",
       "Q3          9.861000e+03     5.030000e-01          7.731464e+08\n",
       "Max         3.451600e+04     9.990000e-01          8.283431e+08\n",
       "MAD         3.951129e+03     2.609376e-01          9.411100e+06\n",
       "IQR         8.534500e+03     4.800000e-01          6.010676e+07\n",
       "CV          1.217099e+00     1.002903e+00          4.992546e-02\n",
       "Skewness    1.661204e+00     7.177953e-01          9.953061e-01\n",
       "SE.Skewness 2.433722e-02     2.433722e-02          2.433722e-02\n",
       "Kurtosis    1.796190e+00    -7.956073e-01         -6.163990e-01\n",
       "N.Valid     1.012700e+04     1.012700e+04          1.012700e+04\n",
       "Pct.Valid   1.000000e+02     1.000000e+02          1.000000e+02\n",
       "            Contacts_Count_12_mon Credit_Limit Customer_Age  Dependent_count\n",
       "Mean         2.455317e+00         8.631954e+03  4.632596e+01  2.346203e+00  \n",
       "Std.Dev      1.106225e+00         9.088777e+03  8.016814e+00  1.298908e+00  \n",
       "Min          0.000000e+00         1.438300e+03  2.600000e+01  0.000000e+00  \n",
       "Q1           2.000000e+00         2.555000e+03  4.100000e+01  1.000000e+00  \n",
       "Median       2.000000e+00         4.549000e+03  4.600000e+01  2.000000e+00  \n",
       "Q3           3.000000e+00         1.106800e+04  5.200000e+01  3.000000e+00  \n",
       "Max          6.000000e+00         3.451600e+04  7.300000e+01  5.000000e+00  \n",
       "MAD          1.482600e+00         3.844382e+03  8.895600e+00  1.482600e+00  \n",
       "IQR          1.000000e+00         8.512500e+03  1.100000e+01  2.000000e+00  \n",
       "CV           4.505426e-01         1.052922e+00  1.730523e-01  5.536214e-01  \n",
       "Skewness     1.100237e-02         1.666232e+00 -3.359506e-02 -2.081937e-02  \n",
       "SE.Skewness  2.433722e-02         2.433722e-02  2.433722e-02  2.433722e-02  \n",
       "Kurtosis    -3.226859e-04         1.806554e+00 -2.896052e-01 -6.837294e-01  \n",
       "N.Valid      1.012700e+04         1.012700e+04  1.012700e+04  1.012700e+04  \n",
       "Pct.Valid    1.000000e+02         1.000000e+02  1.000000e+02  1.000000e+02  \n",
       "            Months_Inactive_12_mon Months_on_book\n",
       "Mean        2.341167e+00            3.592841e+01 \n",
       "Std.Dev     1.010622e+00            7.986416e+00 \n",
       "Min         0.000000e+00            1.300000e+01 \n",
       "Q1          2.000000e+00            3.100000e+01 \n",
       "Median      2.000000e+00            3.600000e+01 \n",
       "Q3          3.000000e+00            4.000000e+01 \n",
       "Max         6.000000e+00            5.600000e+01 \n",
       "MAD         1.482600e+00            5.930400e+00 \n",
       "IQR         1.000000e+00            9.000000e+00 \n",
       "CV          4.316746e-01            2.222869e-01 \n",
       "Skewness    6.328736e-01           -1.065338e-01 \n",
       "SE.Skewness 2.433722e-02            2.433722e-02 \n",
       "Kurtosis    1.096579e+00            3.986389e-01 \n",
       "N.Valid     1.012700e+04            1.012700e+04 \n",
       "Pct.Valid   1.000000e+02            1.000000e+02 \n",
       "            Naive_Bayes_Classifier_Attrition_Flag_Card_Category_Contacts_Count_12_mon_Dependent_count_Education_Level_Months_Inactive_12_mon_1\n",
       "Mean        1.599975e-01                                                                                                                      \n",
       "Std.Dev     3.653010e-01                                                                                                                      \n",
       "Min         7.664200e-06                                                                                                                      \n",
       "Q1          9.898300e-05                                                                                                                      \n",
       "Median      1.814600e-04                                                                                                                      \n",
       "Q3          3.373000e-04                                                                                                                      \n",
       "Max         9.995800e-01                                                                                                                      \n",
       "MAD         1.634329e-04                                                                                                                      \n",
       "IQR         2.383170e-04                                                                                                                      \n",
       "CV          2.283168e+00                                                                                                                      \n",
       "Skewness    1.847991e+00                                                                                                                      \n",
       "SE.Skewness 2.433722e-02                                                                                                                      \n",
       "Kurtosis    1.415371e+00                                                                                                                      \n",
       "N.Valid     1.012700e+04                                                                                                                      \n",
       "Pct.Valid   1.000000e+02                                                                                                                      \n",
       "            Naive_Bayes_Classifier_Attrition_Flag_Card_Category_Contacts_Count_12_mon_Dependent_count_Education_Level_Months_Inactive_12_mon_2\n",
       "Mean         8.400026e-01                                                                                                                     \n",
       "Std.Dev      3.653010e-01                                                                                                                     \n",
       "Min          4.199800e-04                                                                                                                     \n",
       "Q1           9.996600e-01                                                                                                                     \n",
       "Median       9.998200e-01                                                                                                                     \n",
       "Q3           9.999000e-01                                                                                                                     \n",
       "Max          9.999900e-01                                                                                                                     \n",
       "MAD          1.630860e-04                                                                                                                     \n",
       "IQR          2.400000e-04                                                                                                                     \n",
       "CV           4.348809e-01                                                                                                                     \n",
       "Skewness    -1.847991e+00                                                                                                                     \n",
       "SE.Skewness  2.433722e-02                                                                                                                     \n",
       "Kurtosis     1.415371e+00                                                                                                                     \n",
       "N.Valid      1.012700e+04                                                                                                                     \n",
       "Pct.Valid    1.000000e+02                                                                                                                     \n",
       "            Total_Amt_Chng_Q4_Q1 Total_Ct_Chng_Q4_Q1 Total_Relationship_Count\n",
       "Mean        7.599407e-01         7.122224e-01         3.812580e+00           \n",
       "Std.Dev     2.192068e-01         2.380861e-01         1.554408e+00           \n",
       "Min         0.000000e+00         0.000000e+00         1.000000e+00           \n",
       "Q1          6.310000e-01         5.820000e-01         3.000000e+00           \n",
       "Median      7.360000e-01         7.020000e-01         4.000000e+00           \n",
       "Q3          8.590000e-01         8.180000e-01         5.000000e+00           \n",
       "Max         3.397000e+00         3.714000e+00         6.000000e+00           \n",
       "MAD         1.690164e-01         1.764294e-01         1.482600e+00           \n",
       "IQR         2.280000e-01         2.360000e-01         2.000000e+00           \n",
       "CV          2.884525e-01         3.342862e-01         4.077050e-01           \n",
       "Skewness    1.731550e+00         2.063419e+00        -1.624043e-01           \n",
       "SE.Skewness 2.433722e-02         2.433722e-02         2.433722e-02           \n",
       "Kurtosis    9.985410e+00         1.567727e+01        -1.006620e+00           \n",
       "N.Valid     1.012700e+04         1.012700e+04         1.012700e+04           \n",
       "Pct.Valid   1.000000e+02         1.000000e+02         1.000000e+02           \n",
       "            Total_Revolving_Bal Total_Trans_Amt Total_Trans_Ct\n",
       "Mean         1.162814e+03       4.404086e+03     6.485869e+01 \n",
       "Std.Dev      8.149873e+02       3.397129e+03     2.347257e+01 \n",
       "Min          0.000000e+00       5.100000e+02     1.000000e+01 \n",
       "Q1           3.570000e+02       2.155000e+03     4.500000e+01 \n",
       "Median       1.276000e+03       3.899000e+03     6.700000e+01 \n",
       "Q3           1.784000e+03       4.741000e+03     8.100000e+01 \n",
       "Max          2.517000e+03       1.848400e+04     1.390000e+02 \n",
       "MAD          8.762166e+02       1.939241e+03     2.520420e+01 \n",
       "IQR          1.425000e+03       2.585500e+03     3.600000e+01 \n",
       "CV           7.008750e-01       7.713585e-01     3.619032e-01 \n",
       "Skewness    -1.487932e-01       2.040399e+00     1.536275e-01 \n",
       "SE.Skewness  2.433722e-02       2.433722e-02     2.433722e-02 \n",
       "Kurtosis    -1.146385e+00       3.890148e+00    -3.680943e-01 \n",
       "N.Valid      1.012700e+04       1.012700e+04     1.012700e+04 \n",
       "Pct.Valid    1.000000e+02       1.000000e+02     1.000000e+02 "
      ]
     },
     "metadata": {},
     "output_type": "display_data"
    }
   ],
   "source": [
    "df <- read.csv(\"./BankChurners.csv\")\n",
    "head(df)\n",
    "descr(df)"
   ]
  },
  {
   "cell_type": "code",
   "execution_count": 3,
   "metadata": {},
   "outputs": [
    {
     "name": "stderr",
     "output_type": "stream",
     "text": [
      "------------------------------------------------------------------------------\n",
      "\n",
      "You have loaded plyr after dplyr - this is likely to cause problems.\n",
      "If you need functions from both plyr and dplyr, please load plyr first, then dplyr:\n",
      "library(plyr); library(dplyr)\n",
      "\n",
      "------------------------------------------------------------------------------\n",
      "\n",
      "\n",
      "Attaching package: 'plyr'\n",
      "\n",
      "\n",
      "The following objects are masked from 'package:dplyr':\n",
      "\n",
      "    arrange, count, desc, failwith, id, mutate, rename, summarise,\n",
      "    summarize\n",
      "\n",
      "\n"
     ]
    }
   ],
   "source": [
<<<<<<< HEAD
    "library(plyr)\n"
=======
    "<h3>Data Wrangling</h3>\n",
    "Kita hanya akan menggunakan data Customer_Age, Gender, Card Category, Education Level, Martial Status, Income Category, Credit Limit, Total_Trans_Amt, Total_Trans_Ct, dan Avg_Utilization Ratio.   \n",
    "\n",
    "Satuan:\n",
    "1. Umur Pengguna dengan satuan tahun  \n",
    "2. Jenis Kelamin    \n",
    "    M: Laki-laki    \n",
    "    F: Perempuan  \n",
    "3. Tingkat Pendidikan  \n",
    "\n",
    "{Belum Dilanjut}"
>>>>>>> 9a0d376faa441c1113812241c75ae9af7b26a59a
   ]
  },
  {
   "cell_type": "code",
<<<<<<< HEAD
   "execution_count": 4,
   "metadata": {},
   "outputs": [
    {
     "ename": "ERROR",
     "evalue": "Error in UseMethod(\"as.quoted\"): no applicable method for 'as.quoted' applied to an object of class \"data.frame\"\n",
     "output_type": "error",
     "traceback": [
      "Error in UseMethod(\"as.quoted\"): no applicable method for 'as.quoted' applied to an object of class \"data.frame\"\nTraceback:\n",
      "1. count(df[\"Attrition_Flag\"], df[\"Customer_Age\"])",
      "2. as.quoted(vars)"
     ]
    }
   ],
   "source": [
    "count(df[\"Attrition_Flag\"],df[\"Customer_Age\"])"
   ]
  },
  {
   "cell_type": "code",
   "execution_count": 5,
   "metadata": {},
   "outputs": [
    {
     "name": "stderr",
     "output_type": "stream",
     "text": [
      "Warning message in readRDS(dest):\n",
      "\"lzma decoding result 10\"\n",
      "Warning message in readRDS(dest):\n",
      "\"lzma decoding result 10\"\n"
     ]
    },
    {
     "name": "stdout",
     "output_type": "stream",
     "text": [
      "package 'janitor' successfully unpacked and MD5 sums checked\n",
      "\n",
      "The downloaded binary packages are in\n",
      "\tC:\\Users\\FENDIIRFANAMOROKHMAN\\AppData\\Local\\Temp\\RtmpaCEWIq\\downloaded_packages\n"
     ]
    }
   ],
   "source": [
    "install.packages(\"janitor\")"
   ]
  },
  {
   "cell_type": "code",
   "execution_count": 6,
   "metadata": {},
=======
   "execution_count": 3,
   "metadata": {
    "scrolled": true
   },
>>>>>>> 9a0d376faa441c1113812241c75ae9af7b26a59a
   "outputs": [
    {
     "name": "stderr",
     "output_type": "stream",
     "text": [
      "\n",
      "Attaching package: 'janitor'\n",
      "\n",
      "\n",
      "The following objects are masked from 'package:stats':\n",
      "\n",
      "    chisq.test, fisher.test\n",
      "\n",
      "\n"
     ]
    },
    {
     "data": {
      "text/html": [
       "<table>\n",
<<<<<<< HEAD
       "<caption>A tabyl: 2 × 46</caption>\n",
       "<thead>\n",
       "\t<tr><th scope=col>Attrition_Flag</th><th scope=col>26</th><th scope=col>27</th><th scope=col>28</th><th scope=col>29</th><th scope=col>30</th><th scope=col>31</th><th scope=col>32</th><th scope=col>33</th><th scope=col>34</th><th scope=col>...</th><th scope=col>61</th><th scope=col>62</th><th scope=col>63</th><th scope=col>64</th><th scope=col>65</th><th scope=col>66</th><th scope=col>67</th><th scope=col>68</th><th scope=col>70</th><th scope=col>73</th></tr>\n",
       "\t<tr><th scope=col>&lt;chr&gt;</th><th scope=col>&lt;dbl&gt;</th><th scope=col>&lt;dbl&gt;</th><th scope=col>&lt;dbl&gt;</th><th scope=col>&lt;dbl&gt;</th><th scope=col>&lt;dbl&gt;</th><th scope=col>&lt;dbl&gt;</th><th scope=col>&lt;dbl&gt;</th><th scope=col>&lt;dbl&gt;</th><th scope=col>&lt;dbl&gt;</th><th scope=col>...</th><th scope=col>&lt;dbl&gt;</th><th scope=col>&lt;dbl&gt;</th><th scope=col>&lt;dbl&gt;</th><th scope=col>&lt;dbl&gt;</th><th scope=col>&lt;dbl&gt;</th><th scope=col>&lt;dbl&gt;</th><th scope=col>&lt;dbl&gt;</th><th scope=col>&lt;dbl&gt;</th><th scope=col>&lt;dbl&gt;</th><th scope=col>&lt;dbl&gt;</th></tr>\n",
       "</thead>\n",
       "<tbody>\n",
       "\t<tr><td>Attrited Customer</td><td> 6</td><td> 3</td><td> 1</td><td> 7</td><td>15</td><td>13</td><td>17</td><td> 20</td><td> 19</td><td>...</td><td>17</td><td>17</td><td> 8</td><td> 5</td><td> 9</td><td>1</td><td>0</td><td>1</td><td>0</td><td>0</td></tr>\n",
       "\t<tr><td>Existing Customer</td><td>72</td><td>29</td><td>28</td><td>49</td><td>55</td><td>78</td><td>89</td><td>107</td><td>127</td><td>...</td><td>76</td><td>76</td><td>57</td><td>38</td><td>92</td><td>1</td><td>4</td><td>1</td><td>1</td><td>1</td></tr>\n",
=======
       "<caption>A data.frame: 6 × 11</caption>\n",
       "<thead>\n",
       "\t<tr><th></th><th scope=col>Waktu_Buku</th><th scope=col>Umur_Pengguna</th><th scope=col>Jenis_Kelamin</th><th scope=col>Jenis_Kartu</th><th scope=col>Tingkat_Pendidikan</th><th scope=col>Status_Pernikahan</th><th scope=col>Penghasilan</th><th scope=col>Limit_Kredit</th><th scope=col>Besar_Transaksi</th><th scope=col>Banyak_Transaksi</th><th scope=col>Utilisasi</th></tr>\n",
       "\t<tr><th></th><th scope=col>&lt;int&gt;</th><th scope=col>&lt;int&gt;</th><th scope=col>&lt;chr&gt;</th><th scope=col>&lt;chr&gt;</th><th scope=col>&lt;chr&gt;</th><th scope=col>&lt;chr&gt;</th><th scope=col>&lt;chr&gt;</th><th scope=col>&lt;dbl&gt;</th><th scope=col>&lt;int&gt;</th><th scope=col>&lt;int&gt;</th><th scope=col>&lt;dbl&gt;</th></tr>\n",
       "</thead>\n",
       "<tbody>\n",
       "\t<tr><th scope=row>1</th><td>39</td><td>45</td><td>M</td><td>Blue</td><td>High School</td><td>Married</td><td>$60K - $80K   </td><td>12691</td><td>1144</td><td>42</td><td>0.061</td></tr>\n",
       "\t<tr><th scope=row>2</th><td>44</td><td>49</td><td>F</td><td>Blue</td><td>Graduate   </td><td>Single </td><td>Less than $40K</td><td> 8256</td><td>1291</td><td>33</td><td>0.105</td></tr>\n",
       "\t<tr><th scope=row>3</th><td>36</td><td>51</td><td>M</td><td>Blue</td><td>Graduate   </td><td>Married</td><td>$80K - $120K  </td><td> 3418</td><td>1887</td><td>20</td><td>0.000</td></tr>\n",
       "\t<tr><th scope=row>4</th><td>34</td><td>40</td><td>F</td><td>Blue</td><td>High School</td><td>Unknown</td><td>Less than $40K</td><td> 3313</td><td>1171</td><td>20</td><td>0.760</td></tr>\n",
       "\t<tr><th scope=row>5</th><td>21</td><td>40</td><td>M</td><td>Blue</td><td>Uneducated </td><td>Married</td><td>$60K - $80K   </td><td> 4716</td><td> 816</td><td>28</td><td>0.000</td></tr>\n",
       "\t<tr><th scope=row>6</th><td>36</td><td>44</td><td>M</td><td>Blue</td><td>Graduate   </td><td>Married</td><td>$40K - $60K   </td><td> 4010</td><td>1088</td><td>24</td><td>0.311</td></tr>\n",
>>>>>>> 9a0d376faa441c1113812241c75ae9af7b26a59a
       "</tbody>\n",
       "</table>\n"
      ],
      "text/latex": [
<<<<<<< HEAD
       "A tabyl: 2 × 46\n",
       "\\begin{tabular}{lllllllllllllllllllll}\n",
       " Attrition\\_Flag & 26 & 27 & 28 & 29 & 30 & 31 & 32 & 33 & 34 & ... & 61 & 62 & 63 & 64 & 65 & 66 & 67 & 68 & 70 & 73\\\\\n",
       " <chr> & <dbl> & <dbl> & <dbl> & <dbl> & <dbl> & <dbl> & <dbl> & <dbl> & <dbl> & ... & <dbl> & <dbl> & <dbl> & <dbl> & <dbl> & <dbl> & <dbl> & <dbl> & <dbl> & <dbl>\\\\\n",
       "\\hline\n",
       "\t Attrited Customer &  6 &  3 &  1 &  7 & 15 & 13 & 17 &  20 &  19 & ... & 17 & 17 &  8 &  5 &  9 & 1 & 0 & 1 & 0 & 0\\\\\n",
       "\t Existing Customer & 72 & 29 & 28 & 49 & 55 & 78 & 89 & 107 & 127 & ... & 76 & 76 & 57 & 38 & 92 & 1 & 4 & 1 & 1 & 1\\\\\n",
=======
       "A data.frame: 6 × 11\n",
       "\\begin{tabular}{r|lllllllllll}\n",
       "  & Waktu\\_Buku & Umur\\_Pengguna & Jenis\\_Kelamin & Jenis\\_Kartu & Tingkat\\_Pendidikan & Status\\_Pernikahan & Penghasilan & Limit\\_Kredit & Besar\\_Transaksi & Banyak\\_Transaksi & Utilisasi\\\\\n",
       "  & <int> & <int> & <chr> & <chr> & <chr> & <chr> & <chr> & <dbl> & <int> & <int> & <dbl>\\\\\n",
       "\\hline\n",
       "\t1 & 39 & 45 & M & Blue & High School & Married & \\$60K - \\$80K    & 12691 & 1144 & 42 & 0.061\\\\\n",
       "\t2 & 44 & 49 & F & Blue & Graduate    & Single  & Less than \\$40K &  8256 & 1291 & 33 & 0.105\\\\\n",
       "\t3 & 36 & 51 & M & Blue & Graduate    & Married & \\$80K - \\$120K   &  3418 & 1887 & 20 & 0.000\\\\\n",
       "\t4 & 34 & 40 & F & Blue & High School & Unknown & Less than \\$40K &  3313 & 1171 & 20 & 0.760\\\\\n",
       "\t5 & 21 & 40 & M & Blue & Uneducated  & Married & \\$60K - \\$80K    &  4716 &  816 & 28 & 0.000\\\\\n",
       "\t6 & 36 & 44 & M & Blue & Graduate    & Married & \\$40K - \\$60K    &  4010 & 1088 & 24 & 0.311\\\\\n",
>>>>>>> 9a0d376faa441c1113812241c75ae9af7b26a59a
       "\\end{tabular}\n"
      ],
      "text/markdown": [
       "\n",
<<<<<<< HEAD
       "A tabyl: 2 × 46\n",
       "\n",
       "| Attrition_Flag &lt;chr&gt; | 26 &lt;dbl&gt; | 27 &lt;dbl&gt; | 28 &lt;dbl&gt; | 29 &lt;dbl&gt; | 30 &lt;dbl&gt; | 31 &lt;dbl&gt; | 32 &lt;dbl&gt; | 33 &lt;dbl&gt; | 34 &lt;dbl&gt; | ... ... | 61 &lt;dbl&gt; | 62 &lt;dbl&gt; | 63 &lt;dbl&gt; | 64 &lt;dbl&gt; | 65 &lt;dbl&gt; | 66 &lt;dbl&gt; | 67 &lt;dbl&gt; | 68 &lt;dbl&gt; | 70 &lt;dbl&gt; | 73 &lt;dbl&gt; |\n",
       "|---|---|---|---|---|---|---|---|---|---|---|---|---|---|---|---|---|---|---|---|---|\n",
       "| Attrited Customer |  6 |  3 |  1 |  7 | 15 | 13 | 17 |  20 |  19 | ... | 17 | 17 |  8 |  5 |  9 | 1 | 0 | 1 | 0 | 0 |\n",
       "| Existing Customer | 72 | 29 | 28 | 49 | 55 | 78 | 89 | 107 | 127 | ... | 76 | 76 | 57 | 38 | 92 | 1 | 4 | 1 | 1 | 1 |\n",
       "\n"
      ],
      "text/plain": [
       "  Attrition_Flag    26 27 28 29 30 31 32 33  34  ... 61 62 63 64 65 66 67 68 70\n",
       "1 Attrited Customer  6  3  1  7 15 13 17  20  19 ... 17 17  8  5  9 1  0  1  0 \n",
       "2 Existing Customer 72 29 28 49 55 78 89 107 127 ... 76 76 57 38 92 1  4  1  1 \n",
       "  73\n",
       "1 0 \n",
       "2 1 "
=======
       "A data.frame: 6 × 11\n",
       "\n",
       "| <!--/--> | Waktu_Buku &lt;int&gt; | Umur_Pengguna &lt;int&gt; | Jenis_Kelamin &lt;chr&gt; | Jenis_Kartu &lt;chr&gt; | Tingkat_Pendidikan &lt;chr&gt; | Status_Pernikahan &lt;chr&gt; | Penghasilan &lt;chr&gt; | Limit_Kredit &lt;dbl&gt; | Besar_Transaksi &lt;int&gt; | Banyak_Transaksi &lt;int&gt; | Utilisasi &lt;dbl&gt; |\n",
       "|---|---|---|---|---|---|---|---|---|---|---|---|\n",
       "| 1 | 39 | 45 | M | Blue | High School | Married | $60K - $80K    | 12691 | 1144 | 42 | 0.061 |\n",
       "| 2 | 44 | 49 | F | Blue | Graduate    | Single  | Less than $40K |  8256 | 1291 | 33 | 0.105 |\n",
       "| 3 | 36 | 51 | M | Blue | Graduate    | Married | $80K - $120K   |  3418 | 1887 | 20 | 0.000 |\n",
       "| 4 | 34 | 40 | F | Blue | High School | Unknown | Less than $40K |  3313 | 1171 | 20 | 0.760 |\n",
       "| 5 | 21 | 40 | M | Blue | Uneducated  | Married | $60K - $80K    |  4716 |  816 | 28 | 0.000 |\n",
       "| 6 | 36 | 44 | M | Blue | Graduate    | Married | $40K - $60K    |  4010 | 1088 | 24 | 0.311 |\n",
       "\n"
      ],
      "text/plain": [
       "  Waktu_Buku Umur_Pengguna Jenis_Kelamin Jenis_Kartu Tingkat_Pendidikan\n",
       "1 39         45            M             Blue        High School       \n",
       "2 44         49            F             Blue        Graduate          \n",
       "3 36         51            M             Blue        Graduate          \n",
       "4 34         40            F             Blue        High School       \n",
       "5 21         40            M             Blue        Uneducated        \n",
       "6 36         44            M             Blue        Graduate          \n",
       "  Status_Pernikahan Penghasilan    Limit_Kredit Besar_Transaksi\n",
       "1 Married           $60K - $80K    12691        1144           \n",
       "2 Single            Less than $40K  8256        1291           \n",
       "3 Married           $80K - $120K    3418        1887           \n",
       "4 Unknown           Less than $40K  3313        1171           \n",
       "5 Married           $60K - $80K     4716         816           \n",
       "6 Married           $40K - $60K     4010        1088           \n",
       "  Banyak_Transaksi Utilisasi\n",
       "1 42               0.061    \n",
       "2 33               0.105    \n",
       "3 20               0.000    \n",
       "4 20               0.760    \n",
       "5 28               0.000    \n",
       "6 24               0.311    "
>>>>>>> 9a0d376faa441c1113812241c75ae9af7b26a59a
      ]
     },
     "metadata": {},
     "output_type": "display_data"
    }
   ],
   "source": [
    "library(janitor)\n",
    "tabyl(df, Attrition_Flag, Customer_Age)"
   ]
  },
  {
   "cell_type": "markdown",
   "metadata": {},
   "source": [
    "<h3>Data Wrangling</h3>\n",
    "Kita hanya akan menggunakan data Customer_Age, Gender, Card Category, Education Level, Martial Status, Income Category, Credit Limit, Total_Trans_Amt, Total_Trans_Ct, dan Avg_Utilization Ratio.   \n",
    "\n",
    "Satuan:\n",
    "1. Umur Pengguna dengan satuan tahun\n",
    "2. Jenis Kelamin  \n",
    "    M: Laki-laki  \n",
    "    F: Perempuan\n",
    "3. Tingkat Pendidikan  \n",
    "\n",
    "{Belum Dilanjut}"
   ]
  },
  {
   "cell_type": "markdown",
   "metadata": {
    "scrolled": false
   },
   "source": [
    "#Memindahkan ke dataframe baru\n",
    "wr <- data.frame(\"Waktu_Buku\" = df$Months_on_book,\n",
    "                 \"Umur_Pengguna\" = df$Customer_Age,\n",
    "                 \"Jenis_Kelamin\" = df$Gender,\n",
    "                 \"Jenis_Kartu\" = df$Card_Category,\n",
    "                 \"Tingkat_Pendidikan\" = df$Education_Level,\n",
    "                 \"Status_Pernikahan\" = df$Marital_Status,\n",
    "                 \"Penghasilan\" = df$Income_Category,\n",
    "                 \"Limit_Kredit\" = df$Credit_Limit,\n",
    "                 \"Besar_Transaksi\" = df$Total_Trans_Amt,\n",
    "                 \"Banyak_Transaksi\" = df$Total_Trans_Ct,\n",
    "                 \"Utilisasi\" = df$Avg_Utilization_Ratio)\n",
    "head(wr)"
   ]
  },
  {
   "cell_type": "markdown",
   "metadata": {},
   "source": [
    "<h3>Data Exploration</h3>"
   ]
  },
  {
   "cell_type": "markdown",
   "metadata": {},
   "source": [
    "kita harus tahu keterhubungan antara jenis kartu yang dipakai dan utilisasi kartu tersebut"
   ]
  },
  {
   "cell_type": "code",
   "execution_count": 4,
   "metadata": {},
   "outputs": [
    {
     "data": {
<<<<<<< HEAD
      "image/png": "iVBORw0KGgoAAAANSUhEUgAAA8AAAANICAMAAAA/63YcAAAAM1BMVEUAAABNTU1oaGh8fHyM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\nAABJRU5ErkJggg==",
      "text/plain": [
       "plot without title"
      ]
     },
     "metadata": {
      "image/png": {
       "height": 420,
       "width": 480
      }
     },
     "output_type": "display_data"
    },
    {
     "data": {
      "image/png": "iVBORw0KGgoAAAANSUhEUgAAA8AAAANICAMAAAA/63YcAAAAM1BMVEUAAABNTU1oaGh8fHyM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\nAElFTkSuQmCC",
=======
      "image/png": "iVBORw0KGgoAAAANSUhEUgAABaAAAALQCAMAAABR+ye1AAAAM1BMVEUAAABNTU1oaGh8fHyM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",
>>>>>>> 9a0d376faa441c1113812241c75ae9af7b26a59a
      "text/plain": [
       "plot without title"
      ]
     },
     "metadata": {
      "image/png": {
       "height": 360,
       "width": 720
      }
     },
     "output_type": "display_data"
    }
   ],
   "source": [
    "options(repr.plot.width = 12, repr.plot.height = 6)\n",
    "par(mfrow=c(1,2))\n",
    "plot(factor(wr$Jenis_Kartu), wr$Limit_Kredit,\n",
    "    xlab = \"Jenis Kartu\",\n",
    "    ylab = \"Limit Kredit\")\n",
    "plot(factor(wr$Jenis_Kartu), wr$Utilisasi,\n",
    "    xlab = \"Jenis Kartu\",\n",
    "    ylab = \"Utilisasi Kredit\")\n",
    "\n"
   ]
  },
  {
   "cell_type": "markdown",
   "metadata": {},
   "source": [
    "Dari hasil boxplot diatas, kita bisa melihat bahwa adanya perbedaan yang signifikan dari kartu kredit berjenis Blue yang dengan utilisasi tertinggi dengan limit yang rendah. Yang artinya pengguna yang kurang mengutilisasi kartu kredit tersebut merupakan kartu Gold, Platnium, dan Silver. Pengguna Gold, Silver, dan Platinum sudah diberikan Limit Kredit yang tinggi hanya saja tidak di utilisasikan.  \n",
    "\n",
    "Utilisasi kredit adalah jumlah kredit yang digunakan / limit kredit.\n",
    "\n",
    "Sebelum kita memfokuskan kepada kartu-kartu Gold, Platinum dan Silver, kita juga harus mencari tahu bagaimana orang-orang yang memiliki utilisasi yang rendah pada nasabah yang memiliki kartu Blue"
   ]
  },
  {
   "cell_type": "markdown",
   "metadata": {},
   "source": [
    "<h4>Blue Card Data Exploration</h4>"
   ]
  },
  {
   "cell_type": "code",
   "execution_count": 7,
   "metadata": {
    "scrolled": false
   },
   "outputs": [
    {
     "data": {
      "text/html": [
       "<table>\n",
       "<caption>A data.frame: 6 × 11</caption>\n",
       "<thead>\n",
       "\t<tr><th></th><th scope=col>Waktu_Buku</th><th scope=col>Umur_Pengguna</th><th scope=col>Jenis_Kelamin</th><th scope=col>Jenis_Kartu</th><th scope=col>Tingkat_Pendidikan</th><th scope=col>Status_Pernikahan</th><th scope=col>Penghasilan</th><th scope=col>Limit_Kredit</th><th scope=col>Besar_Transaksi</th><th scope=col>Banyak_Transaksi</th><th scope=col>Utilisasi</th></tr>\n",
       "\t<tr><th></th><th scope=col>&lt;int&gt;</th><th scope=col>&lt;int&gt;</th><th scope=col>&lt;chr&gt;</th><th scope=col>&lt;chr&gt;</th><th scope=col>&lt;chr&gt;</th><th scope=col>&lt;chr&gt;</th><th scope=col>&lt;chr&gt;</th><th scope=col>&lt;dbl&gt;</th><th scope=col>&lt;int&gt;</th><th scope=col>&lt;int&gt;</th><th scope=col>&lt;dbl&gt;</th></tr>\n",
       "</thead>\n",
       "<tbody>\n",
       "\t<tr><th scope=row>1</th><td>39</td><td>45</td><td>M</td><td>Blue</td><td>High School</td><td>Married</td><td>$60K - $80K   </td><td>12691</td><td>1144</td><td>42</td><td>0.061</td></tr>\n",
       "\t<tr><th scope=row>2</th><td>44</td><td>49</td><td>F</td><td>Blue</td><td>Graduate   </td><td>Single </td><td>Less than $40K</td><td> 8256</td><td>1291</td><td>33</td><td>0.105</td></tr>\n",
       "\t<tr><th scope=row>3</th><td>36</td><td>51</td><td>M</td><td>Blue</td><td>Graduate   </td><td>Married</td><td>$80K - $120K  </td><td> 3418</td><td>1887</td><td>20</td><td>0.000</td></tr>\n",
       "\t<tr><th scope=row>4</th><td>34</td><td>40</td><td>F</td><td>Blue</td><td>High School</td><td>Unknown</td><td>Less than $40K</td><td> 3313</td><td>1171</td><td>20</td><td>0.760</td></tr>\n",
       "\t<tr><th scope=row>5</th><td>21</td><td>40</td><td>M</td><td>Blue</td><td>Uneducated </td><td>Married</td><td>$60K - $80K   </td><td> 4716</td><td> 816</td><td>28</td><td>0.000</td></tr>\n",
       "\t<tr><th scope=row>6</th><td>36</td><td>44</td><td>M</td><td>Blue</td><td>Graduate   </td><td>Married</td><td>$40K - $60K   </td><td> 4010</td><td>1088</td><td>24</td><td>0.311</td></tr>\n",
       "</tbody>\n",
       "</table>\n"
      ],
      "text/latex": [
       "A data.frame: 6 × 11\n",
       "\\begin{tabular}{r|lllllllllll}\n",
       "  & Waktu\\_Buku & Umur\\_Pengguna & Jenis\\_Kelamin & Jenis\\_Kartu & Tingkat\\_Pendidikan & Status\\_Pernikahan & Penghasilan & Limit\\_Kredit & Besar\\_Transaksi & Banyak\\_Transaksi & Utilisasi\\\\\n",
       "  & <int> & <int> & <chr> & <chr> & <chr> & <chr> & <chr> & <dbl> & <int> & <int> & <dbl>\\\\\n",
       "\\hline\n",
       "\t1 & 39 & 45 & M & Blue & High School & Married & \\$60K - \\$80K    & 12691 & 1144 & 42 & 0.061\\\\\n",
       "\t2 & 44 & 49 & F & Blue & Graduate    & Single  & Less than \\$40K &  8256 & 1291 & 33 & 0.105\\\\\n",
       "\t3 & 36 & 51 & M & Blue & Graduate    & Married & \\$80K - \\$120K   &  3418 & 1887 & 20 & 0.000\\\\\n",
       "\t4 & 34 & 40 & F & Blue & High School & Unknown & Less than \\$40K &  3313 & 1171 & 20 & 0.760\\\\\n",
       "\t5 & 21 & 40 & M & Blue & Uneducated  & Married & \\$60K - \\$80K    &  4716 &  816 & 28 & 0.000\\\\\n",
       "\t6 & 36 & 44 & M & Blue & Graduate    & Married & \\$40K - \\$60K    &  4010 & 1088 & 24 & 0.311\\\\\n",
       "\\end{tabular}\n"
      ],
      "text/markdown": [
       "\n",
       "A data.frame: 6 × 11\n",
       "\n",
       "| <!--/--> | Waktu_Buku &lt;int&gt; | Umur_Pengguna &lt;int&gt; | Jenis_Kelamin &lt;chr&gt; | Jenis_Kartu &lt;chr&gt; | Tingkat_Pendidikan &lt;chr&gt; | Status_Pernikahan &lt;chr&gt; | Penghasilan &lt;chr&gt; | Limit_Kredit &lt;dbl&gt; | Besar_Transaksi &lt;int&gt; | Banyak_Transaksi &lt;int&gt; | Utilisasi &lt;dbl&gt; |\n",
       "|---|---|---|---|---|---|---|---|---|---|---|---|\n",
       "| 1 | 39 | 45 | M | Blue | High School | Married | $60K - $80K    | 12691 | 1144 | 42 | 0.061 |\n",
       "| 2 | 44 | 49 | F | Blue | Graduate    | Single  | Less than $40K |  8256 | 1291 | 33 | 0.105 |\n",
       "| 3 | 36 | 51 | M | Blue | Graduate    | Married | $80K - $120K   |  3418 | 1887 | 20 | 0.000 |\n",
       "| 4 | 34 | 40 | F | Blue | High School | Unknown | Less than $40K |  3313 | 1171 | 20 | 0.760 |\n",
       "| 5 | 21 | 40 | M | Blue | Uneducated  | Married | $60K - $80K    |  4716 |  816 | 28 | 0.000 |\n",
       "| 6 | 36 | 44 | M | Blue | Graduate    | Married | $40K - $60K    |  4010 | 1088 | 24 | 0.311 |\n",
       "\n"
      ],
      "text/plain": [
       "  Waktu_Buku Umur_Pengguna Jenis_Kelamin Jenis_Kartu Tingkat_Pendidikan\n",
       "1 39         45            M             Blue        High School       \n",
       "2 44         49            F             Blue        Graduate          \n",
       "3 36         51            M             Blue        Graduate          \n",
       "4 34         40            F             Blue        High School       \n",
       "5 21         40            M             Blue        Uneducated        \n",
       "6 36         44            M             Blue        Graduate          \n",
       "  Status_Pernikahan Penghasilan    Limit_Kredit Besar_Transaksi\n",
       "1 Married           $60K - $80K    12691        1144           \n",
       "2 Single            Less than $40K  8256        1291           \n",
       "3 Married           $80K - $120K    3418        1887           \n",
       "4 Unknown           Less than $40K  3313        1171           \n",
       "5 Married           $60K - $80K     4716         816           \n",
       "6 Married           $40K - $60K     4010        1088           \n",
       "  Banyak_Transaksi Utilisasi\n",
       "1 42               0.061    \n",
       "2 33               0.105    \n",
       "3 20               0.000    \n",
       "4 20               0.760    \n",
       "5 28               0.000    \n",
       "6 24               0.311    "
      ]
     },
     "metadata": {},
     "output_type": "display_data"
    },
    {
     "data": {
      "text/html": [
       "<table>\n",
       "<caption>A summarytools: 15 × 6 of type dbl</caption>\n",
       "<thead>\n",
       "\t<tr><th></th><th scope=col>Banyak_Transaksi</th><th scope=col>Besar_Transaksi</th><th scope=col>Limit_Kredit</th><th scope=col>Umur_Pengguna</th><th scope=col>Utilisasi</th><th scope=col>Waktu_Buku</th></tr>\n",
       "</thead>\n",
       "<tbody>\n",
       "\t<tr><th scope=row>Mean</th><td>  64.02818991</td><td>4.225407e+03</td><td>7.363780e+03</td><td>  46.37240356</td><td>   0.29085873</td><td>  35.96068249</td></tr>\n",
       "\t<tr><th scope=row>Std.Dev</th><td>  22.95839998</td><td>3.196100e+03</td><td>7.644249e+03</td><td>   8.07023602</td><td>   0.27863548</td><td>   8.03243566</td></tr>\n",
       "\t<tr><th scope=row>Min</th><td>  10.00000000</td><td>5.100000e+02</td><td>1.438300e+03</td><td>  26.00000000</td><td>   0.00000000</td><td>  13.00000000</td></tr>\n",
       "\t<tr><th scope=row>Q1</th><td>  44.00000000</td><td>2.132000e+03</td><td>2.476000e+03</td><td>  41.00000000</td><td>   0.02250000</td><td>  31.00000000</td></tr>\n",
       "\t<tr><th scope=row>Median</th><td>  67.00000000</td><td>3.856500e+03</td><td>4.105000e+03</td><td>  46.00000000</td><td>   0.20700000</td><td>  36.00000000</td></tr>\n",
       "\t<tr><th scope=row>Q3</th><td>  80.00000000</td><td>4.679500e+03</td><td>9.070000e+03</td><td>  52.00000000</td><td>   0.52600000</td><td>  40.00000000</td></tr>\n",
       "\t<tr><th scope=row>Max</th><td> 139.00000000</td><td>1.848400e+04</td><td>3.451600e+04</td><td>  73.00000000</td><td>   0.99900000</td><td>  56.00000000</td></tr>\n",
       "\t<tr><th scope=row>MAD</th><td>  23.72160000</td><td>1.855474e+03</td><td>3.183142e+03</td><td>   8.89560000</td><td>   0.30689820</td><td>   7.41300000</td></tr>\n",
       "\t<tr><th scope=row>IQR</th><td>  36.00000000</td><td>2.547250e+03</td><td>6.594000e+03</td><td>  11.00000000</td><td>   0.50325000</td><td>   9.00000000</td></tr>\n",
       "\t<tr><th scope=row>CV</th><td>   0.35856706</td><td>7.564005e-01</td><td>1.038088e+00</td><td>   0.17403101</td><td>   0.95797528</td><td>   0.22336716</td></tr>\n",
       "\t<tr><th scope=row>Skewness</th><td>   0.12602976</td><td>2.212153e+00</td><td>1.950712e+00</td><td>  -0.03792593</td><td>   0.61441489</td><td>  -0.10420671</td></tr>\n",
       "\t<tr><th scope=row>SE.Skewness</th><td>   0.02521231</td><td>2.521231e-02</td><td>2.521231e-02</td><td>   0.02521231</td><td>   0.02521231</td><td>   0.02521231</td></tr>\n",
       "\t<tr><th scope=row>Kurtosis</th><td>  -0.37825480</td><td>4.995870e+00</td><td>3.348267e+00</td><td>  -0.31333597</td><td>  -0.92818576</td><td>   0.36947164</td></tr>\n",
       "\t<tr><th scope=row>N.Valid</th><td>9436.00000000</td><td>9.436000e+03</td><td>9.436000e+03</td><td>9436.00000000</td><td>9436.00000000</td><td>9436.00000000</td></tr>\n",
       "\t<tr><th scope=row>Pct.Valid</th><td> 100.00000000</td><td>1.000000e+02</td><td>1.000000e+02</td><td> 100.00000000</td><td> 100.00000000</td><td> 100.00000000</td></tr>\n",
       "</tbody>\n",
       "</table>\n"
      ],
      "text/latex": [
       "A summarytools: 15 × 6 of type dbl\n",
       "\\begin{tabular}{r|llllll}\n",
       "  & Banyak\\_Transaksi & Besar\\_Transaksi & Limit\\_Kredit & Umur\\_Pengguna & Utilisasi & Waktu\\_Buku\\\\\n",
       "\\hline\n",
       "\tMean &   64.02818991 & 4.225407e+03 & 7.363780e+03 &   46.37240356 &    0.29085873 &   35.96068249\\\\\n",
       "\tStd.Dev &   22.95839998 & 3.196100e+03 & 7.644249e+03 &    8.07023602 &    0.27863548 &    8.03243566\\\\\n",
       "\tMin &   10.00000000 & 5.100000e+02 & 1.438300e+03 &   26.00000000 &    0.00000000 &   13.00000000\\\\\n",
       "\tQ1 &   44.00000000 & 2.132000e+03 & 2.476000e+03 &   41.00000000 &    0.02250000 &   31.00000000\\\\\n",
       "\tMedian &   67.00000000 & 3.856500e+03 & 4.105000e+03 &   46.00000000 &    0.20700000 &   36.00000000\\\\\n",
       "\tQ3 &   80.00000000 & 4.679500e+03 & 9.070000e+03 &   52.00000000 &    0.52600000 &   40.00000000\\\\\n",
       "\tMax &  139.00000000 & 1.848400e+04 & 3.451600e+04 &   73.00000000 &    0.99900000 &   56.00000000\\\\\n",
       "\tMAD &   23.72160000 & 1.855474e+03 & 3.183142e+03 &    8.89560000 &    0.30689820 &    7.41300000\\\\\n",
       "\tIQR &   36.00000000 & 2.547250e+03 & 6.594000e+03 &   11.00000000 &    0.50325000 &    9.00000000\\\\\n",
       "\tCV &    0.35856706 & 7.564005e-01 & 1.038088e+00 &    0.17403101 &    0.95797528 &    0.22336716\\\\\n",
       "\tSkewness &    0.12602976 & 2.212153e+00 & 1.950712e+00 &   -0.03792593 &    0.61441489 &   -0.10420671\\\\\n",
       "\tSE.Skewness &    0.02521231 & 2.521231e-02 & 2.521231e-02 &    0.02521231 &    0.02521231 &    0.02521231\\\\\n",
       "\tKurtosis &   -0.37825480 & 4.995870e+00 & 3.348267e+00 &   -0.31333597 &   -0.92818576 &    0.36947164\\\\\n",
       "\tN.Valid & 9436.00000000 & 9.436000e+03 & 9.436000e+03 & 9436.00000000 & 9436.00000000 & 9436.00000000\\\\\n",
       "\tPct.Valid &  100.00000000 & 1.000000e+02 & 1.000000e+02 &  100.00000000 &  100.00000000 &  100.00000000\\\\\n",
       "\\end{tabular}\n"
      ],
      "text/markdown": [
       "\n",
       "A summarytools: 15 × 6 of type dbl\n",
       "\n",
       "| <!--/--> | Banyak_Transaksi | Besar_Transaksi | Limit_Kredit | Umur_Pengguna | Utilisasi | Waktu_Buku |\n",
       "|---|---|---|---|---|---|---|\n",
       "| Mean |   64.02818991 | 4.225407e+03 | 7.363780e+03 |   46.37240356 |    0.29085873 |   35.96068249 |\n",
       "| Std.Dev |   22.95839998 | 3.196100e+03 | 7.644249e+03 |    8.07023602 |    0.27863548 |    8.03243566 |\n",
       "| Min |   10.00000000 | 5.100000e+02 | 1.438300e+03 |   26.00000000 |    0.00000000 |   13.00000000 |\n",
       "| Q1 |   44.00000000 | 2.132000e+03 | 2.476000e+03 |   41.00000000 |    0.02250000 |   31.00000000 |\n",
       "| Median |   67.00000000 | 3.856500e+03 | 4.105000e+03 |   46.00000000 |    0.20700000 |   36.00000000 |\n",
       "| Q3 |   80.00000000 | 4.679500e+03 | 9.070000e+03 |   52.00000000 |    0.52600000 |   40.00000000 |\n",
       "| Max |  139.00000000 | 1.848400e+04 | 3.451600e+04 |   73.00000000 |    0.99900000 |   56.00000000 |\n",
       "| MAD |   23.72160000 | 1.855474e+03 | 3.183142e+03 |    8.89560000 |    0.30689820 |    7.41300000 |\n",
       "| IQR |   36.00000000 | 2.547250e+03 | 6.594000e+03 |   11.00000000 |    0.50325000 |    9.00000000 |\n",
       "| CV |    0.35856706 | 7.564005e-01 | 1.038088e+00 |    0.17403101 |    0.95797528 |    0.22336716 |\n",
       "| Skewness |    0.12602976 | 2.212153e+00 | 1.950712e+00 |   -0.03792593 |    0.61441489 |   -0.10420671 |\n",
       "| SE.Skewness |    0.02521231 | 2.521231e-02 | 2.521231e-02 |    0.02521231 |    0.02521231 |    0.02521231 |\n",
       "| Kurtosis |   -0.37825480 | 4.995870e+00 | 3.348267e+00 |   -0.31333597 |   -0.92818576 |    0.36947164 |\n",
       "| N.Valid | 9436.00000000 | 9.436000e+03 | 9.436000e+03 | 9436.00000000 | 9436.00000000 | 9436.00000000 |\n",
       "| Pct.Valid |  100.00000000 | 1.000000e+02 | 1.000000e+02 |  100.00000000 |  100.00000000 |  100.00000000 |\n",
       "\n"
      ],
      "text/plain": [
       "            Banyak_Transaksi Besar_Transaksi Limit_Kredit Umur_Pengguna\n",
       "Mean          64.02818991    4.225407e+03    7.363780e+03   46.37240356\n",
       "Std.Dev       22.95839998    3.196100e+03    7.644249e+03    8.07023602\n",
       "Min           10.00000000    5.100000e+02    1.438300e+03   26.00000000\n",
       "Q1            44.00000000    2.132000e+03    2.476000e+03   41.00000000\n",
       "Median        67.00000000    3.856500e+03    4.105000e+03   46.00000000\n",
       "Q3            80.00000000    4.679500e+03    9.070000e+03   52.00000000\n",
       "Max          139.00000000    1.848400e+04    3.451600e+04   73.00000000\n",
       "MAD           23.72160000    1.855474e+03    3.183142e+03    8.89560000\n",
       "IQR           36.00000000    2.547250e+03    6.594000e+03   11.00000000\n",
       "CV             0.35856706    7.564005e-01    1.038088e+00    0.17403101\n",
       "Skewness       0.12602976    2.212153e+00    1.950712e+00   -0.03792593\n",
       "SE.Skewness    0.02521231    2.521231e-02    2.521231e-02    0.02521231\n",
       "Kurtosis      -0.37825480    4.995870e+00    3.348267e+00   -0.31333597\n",
       "N.Valid     9436.00000000    9.436000e+03    9.436000e+03 9436.00000000\n",
       "Pct.Valid    100.00000000    1.000000e+02    1.000000e+02  100.00000000\n",
       "            Utilisasi     Waktu_Buku   \n",
       "Mean           0.29085873   35.96068249\n",
       "Std.Dev        0.27863548    8.03243566\n",
       "Min            0.00000000   13.00000000\n",
       "Q1             0.02250000   31.00000000\n",
       "Median         0.20700000   36.00000000\n",
       "Q3             0.52600000   40.00000000\n",
       "Max            0.99900000   56.00000000\n",
       "MAD            0.30689820    7.41300000\n",
       "IQR            0.50325000    9.00000000\n",
       "CV             0.95797528    0.22336716\n",
       "Skewness       0.61441489   -0.10420671\n",
       "SE.Skewness    0.02521231    0.02521231\n",
       "Kurtosis      -0.92818576    0.36947164\n",
       "N.Valid     9436.00000000 9436.00000000\n",
       "Pct.Valid    100.00000000  100.00000000"
      ]
     },
     "metadata": {},
     "output_type": "display_data"
    }
   ],
   "source": [
    "blue <- wr[(wr$Jenis_Kartu == \"Blue\"), ]\n",
    "head(blue)\n",
    "descr(blue)"
   ]
  },
  {
   "cell_type": "markdown",
   "metadata": {},
   "source": []
  },
  {
   "cell_type": "code",
<<<<<<< HEAD
   "execution_count": 6,
=======
   "execution_count": 10,
>>>>>>> 9a0d376faa441c1113812241c75ae9af7b26a59a
   "metadata": {
    "scrolled": false
   },
   "outputs": [
    {
     "data": {
      "image/png": "iVBORw0KGgoAAAANSUhEUgAABaAAAALQCAMAAABR+ye1AAAAM1BMVEUAAABNTU1oaGh8fHyM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\ngCj/ByG+FUI84mC1AAAAAElFTkSuQmCC",
      "text/plain": [
       "plot without title"
      ]
     },
     "metadata": {
      "image/png": {
       "height": 360,
       "width": 720
      }
     },
     "output_type": "display_data"
    }
   ],
   "source": [
    "plot(factor(blue$Tingkat_Pendidikan), blue$Utilisasi)"
   ]
  },
  {
   "cell_type": "markdown",
   "metadata": {},
   "source": [
    "Dilihat dari boxplot diatas, status pendidikan tidak mempengaruhi utilisasi dari kartu kredit berjenis blue ini. Tetapi pada boxplot ini, terlihat bahwa Collage dan Doctorate memiliki Utilisasi yang rendah terlihat pada Q1 nya yang hingga 0.0."
   ]
  },
  {
   "cell_type": "code",
   "execution_count": 36,
   "metadata": {
    "scrolled": false
   },
   "outputs": [
    {
     "data": {
      "text/html": [
       "35.9606824925816"
      ],
      "text/latex": [
       "35.9606824925816"
      ],
      "text/markdown": [
       "35.9606824925816"
      ],
      "text/plain": [
       "[1] 35.96068"
      ]
     },
     "metadata": {},
     "output_type": "display_data"
    },
    {
     "data": {
      "text/html": [
       "0.789652313337274"
      ],
      "text/latex": [
       "0.789652313337274"
      ],
      "text/markdown": [
       "0.789652313337274"
      ],
      "text/plain": [
       "[1] 0.7896523"
      ]
     },
     "metadata": {},
     "output_type": "display_data"
    },
    {
     "data": {
      "image/png": "iVBORw0KGgoAAAANSUhEUgAABwgAAALQCAMAAACzGNRRAAAAM1BMVEUAAABNTU1oaGh8fHyM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\nQmCC",
      "text/plain": [
       "Plot with title \"Histogram of blue$Waktu_Buku\""
      ]
     },
     "metadata": {
      "image/png": {
       "height": 360,
       "width": 900
      }
     },
     "output_type": "display_data"
    },
    {
     "data": {
      "image/png": "iVBORw0KGgoAAAANSUhEUgAABwgAAALQCAMAAACzGNRRAAAAMFBMVEUAAABNTU1oaGh8fHyM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\nBKBqghCAqglCAKomCAGo2n+gA7qu7ORViAAAAABJRU5ErkJggg==",
      "text/plain": [
       "plot without title"
      ]
     },
     "metadata": {
      "image/png": {
       "height": 360,
       "width": 900
      }
     },
     "output_type": "display_data"
    }
   ],
   "source": [
    "options(repr.plot.width = 15, repr.plot.height = 6)\n",
    "par(mfrow=c(1,2))\n",
    "hist(blue$Umur_Pengguna, breaks = 50)\n",
    "hist(blue$Waktu_Buku, breaks = 50)\n",
    "mean(blue$Waktu_Buku)\n",
    "plot(blue$Waktu_Buku, blue$Umur_Pengguna)\n",
    "cor(blue$Umur_Pengguna, blue$Waktu_Buku)"
   ]
  },
  {
   "cell_type": "markdown",
   "metadata": {},
   "source": [
    "Adanya pelonjakan pendaftaran pada ±35 Bulan yang lalu atau sekitar hampir 3 tahun yang lalu, bisa kita lihat dari histogram Waktu Buku. Dapat terlihat juga korelasi terhadap Umur Pengguna dengan Waktu Buku, hanya saja pada sekitaran Waktu Buku 35 bulan tersebut terlihat garis lurus bahwa adanya pelonjakan pendaftaran dari berbagai umur pada waktu tersebut."
   ]
  },
  {
   "cell_type": "code",
<<<<<<< HEAD
   "execution_count": 7,
=======
   "execution_count": 37,
>>>>>>> 9a0d376faa441c1113812241c75ae9af7b26a59a
   "metadata": {},
   "outputs": [
    {
     "data": {
      "image/png": "iVBORw0KGgoAAAANSUhEUgAABwgAAALQCAMAAACzGNRRAAAAMFBMVEUAAABNTU1oaGh8fHyM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\nayoqGW8AAAQAAAAASUVORK5CYII=",
      "text/plain": [
       "plot without title"
      ]
     },
     "metadata": {
      "image/png": {
       "height": 360,
       "width": 900
      }
     },
     "output_type": "display_data"
    }
   ],
   "source": [
    "plot(blue$Umur_Pengguna, blue$Utilisasi)"
   ]
  },
  {
   "cell_type": "markdown",
   "metadata": {},
   "source": [
    "Dari diagram diatas juga terlihat bahwa kebanyakan orang yang menggunakan utilisasi datas rata-rata sekitar umur 30-60."
   ]
  },
  {
   "cell_type": "code",
   "execution_count": 41,
   "metadata": {},
   "outputs": [
    {
     "data": {
      "image/png": "iVBORw0KGgoAAAANSUhEUgAAA8AAAALQCAMAAABoqemGAAAAM1BMVEUAAABNTU1oaGh8fHyM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\nQmCC",
      "text/plain": [
       "plot without title"
      ]
     },
     "metadata": {
      "image/png": {
       "height": 360,
       "width": 480
      }
     },
     "output_type": "display_data"
    }
   ],
   "source": [
    "options(repr.plot.width = 8, repr.plot.height = 6)\n",
    "plot(factor(blue$Status_Pernikahan), blue$Utilisasi)"
   ]
  },
  {
   "cell_type": "markdown",
   "metadata": {},
   "source": [
    "<h4>Silver, Gold, Platinum Card Data Exploration</h4>"
   ]
  },
  {
   "cell_type": "code",
   "execution_count": null,
   "metadata": {},
   "outputs": [],
   "source": [
    "options(repr.plot.width = 10, repr.plot.height = 6)\n",
    "plot(factor(temp$Penghasilan), temp$Utilisasi)\n",
    "plot(factor(temp$Penghasilan), temp$Limit_Kredit)"
   ]
  },
  {
   "cell_type": "code",
   "execution_count": null,
   "metadata": {
    "scrolled": false
   },
   "outputs": [],
   "source": [
    "wr1 <- wr[!(wr$Jenis_Kartu == \"Blue\"), ] #Menghapus data pengguna kartu berjenis Blue"
   ]
  },
  {
   "cell_type": "code",
   "execution_count": null,
   "metadata": {},
   "outputs": [],
   "source": [
    "options(repr.plot.width = 12, repr.plot.height = 6)\n",
    "descr(wr1)\n",
    "par(mfrow=c(1,2))\n",
    "plot(factor(wr1$Jenis_Kartu), wr1$Limit_Kredit,\n",
    "    xlab = \"Jenis Kartu\",\n",
    "    ylab = \"Limit Kredit\")\n",
    "plot(factor(wr1$Jenis_Kartu), wr1$Utilisasi,\n",
    "    xlab = \"Jenis Kartu\",\n",
    "    ylab = \"Utilisasi Kredit\")\n"
   ]
  },
  {
   "cell_type": "code",
   "execution_count": null,
   "metadata": {
    "scrolled": false
   },
   "outputs": [],
   "source": [
    "options(repr.plot.width = 6, repr.plot.height = 6)\n",
    "plot(wr1$Waktu_Buku, wr1$Utilisasi)\n",
    "hist(wr1$Waktu_Buku, breaks = 50, freq = FALSE)\n",
    "curve(dnorm(x, mean = mean(wr1$Waktu_Buku), sd = sd(wr1$Waktu_Buku)), add = TRUE, col = \"red\")"
   ]
  },
  {
   "cell_type": "code",
   "execution_count": null,
   "metadata": {
    "scrolled": true
   },
   "outputs": [],
   "source": [
    "options(repr.plot.width = 10, repr.plot.height = 5)\n",
    "hist(wr1$Besar_Transaksi, breaks = 50)"
   ]
  },
  {
   "cell_type": "markdown",
   "metadata": {},
   "source": [
    "<h3>My Note</h3>"
   ]
  },
  {
   "cell_type": "markdown",
   "metadata": {},
   "source": [
    "options(repr.plot.width = 10, repr.plot.height = 6)\n",
    "plot(factor(wr$Penghasilan), wr$Utilisasi)\n",
    "barplot(table(wr$Penghasilan), space = TRUE)"
   ]
  },
  {
   "cell_type": "code",
   "execution_count": null,
   "metadata": {},
   "outputs": [],
   "source": [
    "options(repr.plot.width = 15, repr.plot.height = 15)\n",
    "plot(wr1)"
   ]
  },
  {
   "cell_type": "code",
   "execution_count": 25,
   "metadata": {},
   "outputs": [],
   "source": [
    "?hist"
   ]
  },
  {
   "cell_type": "code",
   "execution_count": 31,
   "metadata": {},
   "outputs": [
    {
     "ename": "ERROR",
     "evalue": "Error in blue$Waktu_Buku[blue[blue$Utilisasi > 0.5, ]]: invalid subscript type 'list'\n",
     "output_type": "error",
     "traceback": [
      "Error in blue$Waktu_Buku[blue[blue$Utilisasi > 0.5, ]]: invalid subscript type 'list'\nTraceback:\n"
     ]
    }
   ],
   "source": []
  },
  {
   "cell_type": "code",
   "execution_count": 38,
   "metadata": {},
   "outputs": [],
   "source": [
    "?heatmap"
   ]
  },
  {
   "cell_type": "code",
   "execution_count": null,
   "metadata": {},
   "outputs": [],
   "source": []
  }
 ],
 "metadata": {
  "kernelspec": {
   "display_name": "R",
   "language": "R",
   "name": "ir"
  },
  "language_info": {
   "codemirror_mode": "r",
   "file_extension": ".r",
   "mimetype": "text/x-r-source",
   "name": "R",
   "pygments_lexer": "r",
   "version": "4.0.3"
  }
 },
 "nbformat": 4,
 "nbformat_minor": 2
}
