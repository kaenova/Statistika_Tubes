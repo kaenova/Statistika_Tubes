{
 "cells": [
  {
   "cell_type": "code",
   "execution_count": null,
   "metadata": {},
   "outputs": [],
   "source": [
    "install.packages(\"CARS\")\n",
    "library(CARS)\n",
    "data(cars)\n",
    "summary(cars)\n",
    "View(cars)\n",
    "?cars\n",
    "data <- cars\n",
    "hist(data$speed)\n",
    "hist(data$dist)\n",
    "boxplot(data$speed)\n",
    "boxplot(data$dist)\n",
    "plot(data$speed,data$dist)\n",
    "cor(data$speed,data$dist,method='pearson')\n",
    "?cor\n",
    "cor.test(data$speed,data$dist,method='pearson')\n",
    "\n",
    "\n"
   ]
  },
  {
   "cell_type": "code",
   "execution_count": null,
   "metadata": {},
   "outputs": [],
   "source": [
    "#LATIHAN\n",
    "install.packages(\"MASS\")\n",
    "library(MASS)\n",
    "summary(Boston)\n",
    "?Boston\n",
    "\n",
    "#Pilih dua variabel dalam dataset Boston. \n",
    "#Misalkan variabel 'crim' dan 'medv'  \n",
    "#Lakukan eksplorasi data seperti contoh data cars"
   ]
  }
 ],
 "metadata": {
  "kernelspec": {
   "display_name": "R",
   "language": "R",
   "name": "ir"
  },
  "language_info": {
   "codemirror_mode": "r",
   "file_extension": ".r",
   "mimetype": "text/x-r-source",
   "name": "R",
   "pygments_lexer": "r",
   "version": "3.6.1"
  }
 },
 "nbformat": 4,
 "nbformat_minor": 4
}
