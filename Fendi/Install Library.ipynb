{
 "cells": [
  {
   "cell_type": "code",
   "execution_count": null,
   "metadata": {},
   "outputs": [],
   "source": [
    "# install.packages(\"summarytools\", repos = \"https://repo.bppt.go.id/cran/\")\n",
    "# install.packages(\"dplyr\", repos = \"https://repo.bppt.go.id/cran/\")\n",
    "# install.packages(\"repr\", repos = \"https://repo.bppt.go.id/cran/\")"
   ]
  },
  {
   "cell_type": "code",
   "execution_count": null,
   "metadata": {},
   "outputs": [
    {
     "name": "stderr",
     "output_type": "stream",
     "text": [
      "also installing the dependencies 'prettyunits', 'rprojroot', 'pkgbuild', 'rstudioapi', 'diffobj', 'rematch2', 'brio', 'callr', 'desc', 'pkgload', 'praise', 'processx', 'ps', 'waldo', 'mime', 'colorspace', 'testthat', 'highr', 'markdown', 'farver', 'labeling', 'munsell', 'RColorBrewer', 'viridisLite', 'gtable', 'isoband', 'withr', 'knitr', 'yaml', 'tinytex', 'xfun', 'htmlwidgets', 'igraph', 'data.table', 'reshape2', 'scales', 'ggplot2', 'gridExtra', 'rmarkdown', 'networkD3'\n",
      "\n",
      "\n",
      "Warning message in download.file(url, destfile, method, mode = \"wb\", ...):\n",
      "\"downloaded length 98304 != reported length 287311\"\n",
      "Warning message in download.file(url, destfile, method, mode = \"wb\", ...):\n",
      "\"downloaded length 131072 != reported length 207803\"\n",
      "Warning message in download.file(url, destfile, method, mode = \"wb\", ...):\n",
      "\"downloaded length 212992 != reported length 302978\"\n",
      "Warning message in download.file(url, destfile, method, mode = \"wb\", ...):\n",
      "\"downloaded length 311296 != reported length 9344010\"\n"
     ]
    }
   ],
   "source": [
    "install.packages(\"DataExplorer\")"
   ]
  },
  {
   "cell_type": "code",
   "execution_count": null,
   "metadata": {},
   "outputs": [],
   "source": []
  }
 ],
 "metadata": {
  "kernelspec": {
   "display_name": "R",
   "language": "R",
   "name": "ir"
  },
  "language_info": {
   "codemirror_mode": "r",
   "file_extension": ".r",
   "mimetype": "text/x-r-source",
   "name": "R",
   "pygments_lexer": "r",
   "version": "4.0.3"
  }
 },
 "nbformat": 4,
 "nbformat_minor": 4
}
